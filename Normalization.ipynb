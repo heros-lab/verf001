{
 "cells": [
  {
   "cell_type": "code",
   "execution_count": 31,
   "metadata": {},
   "outputs": [],
   "source": [
    "import os\n",
    "import numpy as np\n",
    "import pandas as pd\n",
    "import matplotlib.pyplot as plt\n",
    "\n",
    "import toolkit.dataset"
   ]
  },
  {
   "cell_type": "code",
   "execution_count": 64,
   "metadata": {},
   "outputs": [],
   "source": [
    "def normalize(x_vec, x_min:float, x_max:float):\n",
    "    norm = np.vectorize(lambda x: (x - x_min)/(x_max - x_min))\n",
    "    return norm(x_vec)"
   ]
  },
  {
   "cell_type": "code",
   "execution_count": 131,
   "metadata": {},
   "outputs": [],
   "source": [
    "data_path = \"./dataset\"\n",
    "save_path = \"./dataset/norms\"\n",
    "\n",
    "dataset = toolkit.dataset.DatasetClass(data_path)\n",
    "data_list = [file[:-6] for file in os.listdir(data_path) if \"_x.csv\" in file]"
   ]
  },
  {
   "cell_type": "code",
   "execution_count": 133,
   "metadata": {
    "scrolled": true
   },
   "outputs": [
    {
     "data": {
      "text/plain": [
       "['free', 'ms1b', 'ms3b', 'ms1a', 'step', 'ms3a', 'ms2b', 'ms2a']"
      ]
     },
     "metadata": {},
     "output_type": "display_data"
    }
   ],
   "source": [
    "## get max and min values for x, y\n",
    "data_x, data_y = dataset.get_data(data_list)\n",
    "x_max, x_min = pd.DataFrame(data_x).describe().loc[[\"max\",\"min\"]].values\n",
    "y_max, y_min = pd.DataFrame(data_y).describe().loc[[\"max\",\"min\"]].values\n",
    "\n",
    "## saving parameters of normalization\n",
    "df_x = pd.read_csv(f\"{data_path}/{data_list[0]}_x.csv\", index_col=0)\n",
    "df_y = pd.read_csv(f\"{data_path}/{data_list[0]}_y.csv\", index_col=0)\n",
    "df_x_mm = pd.DataFrame({\"x_max\": x_max, \"x_min\": x_min}, index=df_x.columns)\n",
    "df_y_mm = pd.DataFrame({\"y_max\": y_max, \"y_min\": y_min}, index=df_y.columns)\n",
    "df_x_mm.to_csv(\"./dataset/norms/norm_params_x.csv\")\n",
    "df_y_mm.to_csv(\"./dataset/norms/norm_params_y.csv\")\n",
    "\n",
    "display(data_list)\n",
    "#display(df_x_mm, df_y_mm)\n"
   ]
  },
  {
   "cell_type": "code",
   "execution_count": 134,
   "metadata": {},
   "outputs": [],
   "source": [
    "for data_label in data_list:\n",
    "    df_x = pd.read_csv(f\"{data_path}/{data_label}_x.csv\", index_col=0)\n",
    "    df_y = pd.read_csv(f\"{data_path}/{data_label}_y.csv\", index_col=0)\n",
    "    x_columns = list(df_x.columns)\n",
    "    y_columns = list(df_y.columns)\n",
    "\n",
    "    # x-data normalization\n",
    "    df_norm_x = pd.DataFrame({}, index=df_x.index.values)\n",
    "    for label in x_columns:\n",
    "        i = x_columns.index(label)\n",
    "        df_norm_x[label] = normalize(df_x.values[:, i], x_min[i], x_max[i])\n",
    "    \n",
    "    # y-data normalization\n",
    "    df_norm_y = pd.DataFrame({}, index=df_y.index.values)\n",
    "    for label in y_columns:\n",
    "        i = y_columns.index(label)\n",
    "        df_norm_y[label] = normalize(df_y.values[:, i], y_min[i], y_max[i])\n",
    "        \n",
    "    df_norm_x.to_csv(f\"{save_path}/{data_label}_nx.csv\")\n",
    "    df_norm_y.to_csv(f\"{save_path}/{data_label}_ny.csv\")"
   ]
  },
  {
   "cell_type": "code",
   "execution_count": null,
   "metadata": {},
   "outputs": [],
   "source": []
  }
 ],
 "metadata": {
  "kernelspec": {
   "display_name": "Python 3",
   "language": "python",
   "name": "python3"
  },
  "language_info": {
   "codemirror_mode": {
    "name": "ipython",
    "version": 3
   },
   "file_extension": ".py",
   "mimetype": "text/x-python",
   "name": "python",
   "nbconvert_exporter": "python",
   "pygments_lexer": "ipython3",
   "version": "3.7.6"
  }
 },
 "nbformat": 4,
 "nbformat_minor": 4
}
