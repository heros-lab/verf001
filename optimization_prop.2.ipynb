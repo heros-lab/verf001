{
 "cells": [
  {
   "cell_type": "code",
   "execution_count": 1,
   "metadata": {},
   "outputs": [],
   "source": [
    "import optuna\n",
    "import numpy as np\n",
    "import pandas as pd\n",
    "import matplotlib.pyplot as plt\n",
    "import toolkit.filter\n",
    "\n",
    "import tensorflow as tf\n",
    "from tensorflow.keras.backend import clear_session\n",
    "from tensorflow.keras.models import Sequential\n",
    "from tensorflow.keras.layers import Dense\n",
    "from tensorflow.keras.optimizers import Adam\n",
    "\n",
    "from optuna.integration import KerasPruningCallback\n"
   ]
  },
  {
   "cell_type": "code",
   "execution_count": 2,
   "metadata": {},
   "outputs": [
    {
     "name": "stdout",
     "output_type": "stream",
     "text": [
      "Not enough GPU hardware devices available\n"
     ]
    }
   ],
   "source": [
    "physical_devices = tf.config.experimental.list_physical_devices('GPU')\n",
    "if len(physical_devices) > 0:\n",
    "    for k in range(len(physical_devices)):\n",
    "        tf.config.experimental.set_memory_growth(physical_devices[k], True)\n",
    "        print('memory growth:', tf.config.experimental.get_memory_growth(physical_devices[k]))\n",
    "else:\n",
    "    print(\"Not enough GPU hardware devices available\")"
   ]
  },
  {
   "cell_type": "code",
   "execution_count": 3,
   "metadata": {},
   "outputs": [],
   "source": [
    "class DatasetClass:\n",
    "    def __init__(self, data_path):\n",
    "        self.path = data_path\n",
    "    \n",
    "    def __reflect_index(self, data, index):\n",
    "        if index != None:\n",
    "            data = data[:, index]\n",
    "        return data\n",
    "        \n",
    "    def __load_df(self, data_label):\n",
    "        data_x = pd.read_csv(f\"{self.path}/{data_label}_nx.csv\", index_col=0)\n",
    "        data_y = pd.read_csv(f\"{self.path}/{data_label}_ny.csv\", index_col=0)\n",
    "        return data_x, data_y\n",
    "    \n",
    "    def __load_data(self, data_label, x_index, y_index):\n",
    "        data_x, data_y = self.__load_df(data_label)\n",
    "        data_x = self.__reflect_index(data_x.values, x_index)\n",
    "        data_y = self.__reflect_index(data_y.values, y_index)\n",
    "        return data_x, data_y\n",
    "    \n",
    "    def __load_stack(self, dataset_list, x_index, y_index):\n",
    "        for label in dataset_list:\n",
    "            tmp_x, tmp_y = self.__load_data(label, x_index, y_index)\n",
    "            if dataset_list.index(label) == 0:\n",
    "                data_x = tmp_x\n",
    "                data_y = tmp_y\n",
    "            else:\n",
    "                data_x = np.vstack((data_x, tmp_x))\n",
    "                data_y = np.vstack((data_y, tmp_y))\n",
    "        return data_x, data_y\n",
    "    \n",
    "    def __load_dict(self, dataset_list, x_index, y_index):\n",
    "        data_x, data_y = {}, {}\n",
    "        for label in dataset_list:\n",
    "            tmp_x, tmp_y = self.__load_data(label, x_index, y_index)\n",
    "            data_x[label] = tmp_x\n",
    "            data_y[label] = tmp_y\n",
    "        return data_x, data_y\n",
    "    \n",
    "    def get_data(self, dataset_label, x_index=None, y_index=None, dict_type:bool=False):\n",
    "        if not dict_type:\n",
    "            if type(dataset_label) == str:\n",
    "                data_x, data_y = self.__load_data(dataset_label, x_index, y_index)\n",
    "            else:\n",
    "                data_x, data_y = self.__load_stack(dataset_label, x_index, y_index)\n",
    "        else:\n",
    "            data_x, data_y = self.__load_dict(dataset_label, x_index, y_index)\n",
    "        return data_x, data_y\n",
    "    \n",
    "    def get_dataframe(self, dataset_list):\n",
    "        data_x = {}\n",
    "        data_y = {}\n",
    "        for label in dataset_list:\n",
    "            tmp_x, tmp_y = self.__load_df(label)\n",
    "            data_x[label] = tmp_x\n",
    "            data_y[label] = tmp_y\n",
    "        return data_x, data_y\n",
    "\n",
    "\n",
    "def set_index(model_type):\n",
    "    if \"conv.\" in model_type:\n",
    "        x_index = [i for i in range(7)]\n",
    "    elif model_type == \"prop.1\":\n",
    "        x_index = [0,3,4,6]\n",
    "    elif model_type == \"prop.2\":\n",
    "        x_index = [1,2,5,6]\n",
    "    elif model_type == \"prop.3\":\n",
    "        x_index = [1,2,5,6]\n",
    "    elif model_type == \"prop.4\":\n",
    "        x_index = [0,3,4,5,6]\n",
    "    else:\n",
    "        print(f\"<< {model_type} >> This model is not exist.\")\n",
    "    y_index = [int(model_type[-1])-1]\n",
    "    return x_index, y_index\n",
    "\n",
    "\n",
    "def set_dataset_label(model_type):\n",
    "    type_id = int(model_type[-1])\n",
    "    if type_id == 1:\n",
    "        learn = \"ms1a\"\n",
    "        test = \"ms2a\"\n",
    "    elif type_id == 2:\n",
    "        learn = \"ms3a\"\n",
    "        test = \"ms1a\"\n",
    "    elif type_id == 3:\n",
    "        learn = \"ms2a\"\n",
    "        test = \"ms3a\"\n",
    "    elif type_id == 4:\n",
    "        learn = \"ms3a\"\n",
    "        test = \"ms1a\"\n",
    "    return learn, test\n"
   ]
  },
  {
   "cell_type": "code",
   "execution_count": 4,
   "metadata": {},
   "outputs": [
    {
     "name": "stdout",
     "output_type": "stream",
     "text": [
      "x_index: [1, 2, 5, 6], y_index: [1]\n",
      "learn list: ms3a, test_list: ms1a\n"
     ]
    }
   ],
   "source": [
    "model_tag = \"prop.2\"\n",
    "data_path = f\"./dataset/norms\"\n",
    "\n",
    "x_index, y_index = set_index(model_tag)\n",
    "learn_list, test_list  = set_dataset_label(model_tag)\n",
    "\n",
    "dataset = DatasetClass(data_path)\n",
    "learn_x, learn_y = dataset.get_data(learn_list, x_index, y_index)\n",
    "test_x, test_y = dataset.get_data(test_list, x_index, y_index)\n",
    "\n",
    "print(f\"x_index: {x_index}, y_index: [{y_index[0]}]\")\n",
    "print(f\"learn list: {learn_list}, test_list: {test_list}\")\n"
   ]
  },
  {
   "cell_type": "code",
   "execution_count": 5,
   "metadata": {},
   "outputs": [
    {
     "name": "stderr",
     "output_type": "stream",
     "text": [
      "[I 2020-07-21 14:29:12,250] A new study created with name: prop.2_ver2.0\n"
     ]
    }
   ],
   "source": [
    "study_label = \"ver2.0\"\n",
    "STUDY_LOADING = False\n",
    "\n",
    "storage_path = f\"sqlite:///optimize_{model_tag}.db\"\n",
    "study_name = model_tag + \"_\" + study_label\n",
    "\n",
    "# study load or create\n",
    "if STUDY_LOADING:\n",
    "    study = optuna.load_study(study_name, storage_path, pruner=optuna.pruners.MedianPruner())\n",
    "else:\n",
    "    study = optuna.create_study(study_name=study_name, storage=storage_path, direction=\"minimize\", pruner=optuna.pruners.MedianPruner())\n"
   ]
  },
  {
   "cell_type": "code",
   "execution_count": 6,
   "metadata": {},
   "outputs": [],
   "source": [
    "batch_size = 512\n",
    "element = 713\n",
    "\n",
    "epochs = 200\n",
    "samples = 51\n",
    "input_unit = learn_x.shape[1]\n",
    "testdata_size = test_x.shape[0]\n",
    "\n",
    "filter = toolkit.filter.Filter_with_IQR()\n",
    "\n",
    "def objective(trial):\n",
    "    max_unit1 = 100\n",
    "    max_unit2 = 100\n",
    "    \n",
    "    num_unit1 = trial.suggest_int(f\"num_unit1\", 1, max_unit1)\n",
    "    buf_unit2 = int((element - input_unit * num_unit1)/(num_unit1 + 1))\n",
    "    if max_unit2 >= buf_unit2:\n",
    "        max_unit2 = buf_unit2\n",
    "    num_unit2 = trial.suggest_int(f\"num_unit2\", 1, max_unit2)\n",
    "    \n",
    "    score_list = [np.nan for i in range(samples)]\n",
    "    for i in range(samples):\n",
    "        clear_session()\n",
    "        model = Sequential([\n",
    "            Dense(input_dim=input_unit, units=num_unit1, activation=\"tanh\", kernel_initializer=\"glorot_uniform\"),\n",
    "            Dense(input_dim=num_unit1, units=num_unit2, activation=\"tanh\", kernel_initializer=\"glorot_uniform\"),\n",
    "            Dense(input_dim=num_unit2, units=1, kernel_initializer=\"glorot_uniform\")\n",
    "        ])\n",
    "        model.compile(loss=\"mse\", optimizer=Adam())\n",
    "        model.fit(learn_x, learn_y, batch_size=batch_size, epochs=epochs, verbose=0)\n",
    "        score = model.evaluate(test_x, test_y, batch_size=testdata_size, verbose=0)\n",
    "        score_list[i] = score\n",
    "        print(f\"\\r#{trial.number:2}: units={[num_unit1, num_unit2]}, sample {i}/{samples}, score:{score:.4e}\", end=\"\")\n",
    "        \n",
    "    df_score = filter.filtering(score_list)\n",
    "    count, mean, std = df_score.describe().loc[[\"count\",\"mean\",\"std\"]]\n",
    "    print(f\"\\r#{trial.number:2}: units={[num_unit1, num_unit2]}: samples={int(count)}/{samples}, mean={mean:.4e}, std={std:.4e}\\n\")\n",
    "    return mean"
   ]
  },
  {
   "cell_type": "code",
   "execution_count": 7,
   "metadata": {
    "scrolled": false
   },
   "outputs": [
    {
     "name": "stdout",
     "output_type": "stream",
     "text": [
      "# 0: units=[29, 3]: samples=47/51, mean=2.6010e-07, std=2.3918e-07\n",
      "\n"
     ]
    },
    {
     "name": "stderr",
     "output_type": "stream",
     "text": [
      "[I 2020-07-21 14:33:19,173] Finished trial#0 with value: 2.6009580184179073e-07 with parameters: {'num_unit1': 29, 'num_unit2': 3}. Best is trial#0 with value: 2.6009580184179073e-07.\n"
     ]
    },
    {
     "name": "stdout",
     "output_type": "stream",
     "text": [
      "# 1: units=[57, 2]: samples=44/51, mean=2.6664e-07, std=3.7187e-07\n",
      "\n"
     ]
    },
    {
     "name": "stderr",
     "output_type": "stream",
     "text": [
      "[I 2020-07-21 14:37:21,612] Finished trial#1 with value: 2.666355298270256e-07 with parameters: {'num_unit1': 57, 'num_unit2': 2}. Best is trial#0 with value: 2.6009580184179073e-07.\n"
     ]
    },
    {
     "name": "stdout",
     "output_type": "stream",
     "text": [
      "# 2: units=[84, 1]: samples=43/51, mean=2.5408e-07, std=4.1129e-07\n",
      "\n"
     ]
    },
    {
     "name": "stderr",
     "output_type": "stream",
     "text": [
      "[I 2020-07-21 14:41:16,844] Finished trial#2 with value: 2.540827504259402e-07 with parameters: {'num_unit1': 84, 'num_unit2': 1}. Best is trial#2 with value: 2.540827504259402e-07.\n"
     ]
    },
    {
     "name": "stdout",
     "output_type": "stream",
     "text": [
      "# 3: units=[54, 3]: samples=45/51, mean=2.6012e-07, std=2.9932e-07\n",
      "\n"
     ]
    },
    {
     "name": "stderr",
     "output_type": "stream",
     "text": [
      "[I 2020-07-21 14:45:13,524] Finished trial#3 with value: 2.6011952655046067e-07 with parameters: {'num_unit1': 54, 'num_unit2': 3}. Best is trial#2 with value: 2.540827504259402e-07.\n"
     ]
    },
    {
     "name": "stdout",
     "output_type": "stream",
     "text": [
      "# 4: units=[3, 93]: samples=45/51, mean=4.4969e-07, std=3.4438e-07\n",
      "\n"
     ]
    },
    {
     "name": "stderr",
     "output_type": "stream",
     "text": [
      "[I 2020-07-21 14:49:28,442] Finished trial#4 with value: 4.49694743704438e-07 with parameters: {'num_unit1': 3, 'num_unit2': 93}. Best is trial#2 with value: 2.540827504259402e-07.\n"
     ]
    },
    {
     "name": "stdout",
     "output_type": "stream",
     "text": [
      "# 5: units=[80, 3]: samples=43/51, mean=2.2771e-07, std=2.8724e-07\n",
      "\n"
     ]
    },
    {
     "name": "stderr",
     "output_type": "stream",
     "text": [
      "[I 2020-07-21 14:53:31,833] Finished trial#5 with value: 2.2770672777829694e-07 with parameters: {'num_unit1': 80, 'num_unit2': 3}. Best is trial#5 with value: 2.2770672777829694e-07.\n"
     ]
    },
    {
     "name": "stdout",
     "output_type": "stream",
     "text": [
      "# 6: units=[6, 70]: samples=43/51, mean=4.4014e-07, std=4.9675e-07\n",
      "\n"
     ]
    },
    {
     "name": "stderr",
     "output_type": "stream",
     "text": [
      "[I 2020-07-21 14:57:25,186] Finished trial#6 with value: 4.401353888481957e-07 with parameters: {'num_unit1': 6, 'num_unit2': 70}. Best is trial#5 with value: 2.2770672777829694e-07.\n"
     ]
    },
    {
     "name": "stdout",
     "output_type": "stream",
     "text": [
      "# 7: units=[73, 2]: samples=46/51, mean=2.4465e-07, std=3.2588e-07\n",
      "\n"
     ]
    },
    {
     "name": "stderr",
     "output_type": "stream",
     "text": [
      "[I 2020-07-21 15:01:35,855] Finished trial#7 with value: 2.4465300101747883e-07 with parameters: {'num_unit1': 73, 'num_unit2': 2}. Best is trial#5 with value: 2.2770672777829694e-07.\n"
     ]
    },
    {
     "name": "stdout",
     "output_type": "stream",
     "text": [
      "# 8: units=[34, 15]: samples=42/51, mean=2.6694e-07, std=2.5943e-07\n",
      "\n"
     ]
    },
    {
     "name": "stderr",
     "output_type": "stream",
     "text": [
      "[I 2020-07-21 15:05:17,032] Finished trial#8 with value: 2.669403454682478e-07 with parameters: {'num_unit1': 34, 'num_unit2': 15}. Best is trial#5 with value: 2.2770672777829694e-07.\n"
     ]
    },
    {
     "name": "stdout",
     "output_type": "stream",
     "text": [
      "# 9: units=[24, 11]: samples=45/51, mean=3.2956e-07, std=2.9466e-07\n",
      "\n"
     ]
    },
    {
     "name": "stderr",
     "output_type": "stream",
     "text": [
      "[I 2020-07-21 15:08:30,337] Finished trial#9 with value: 3.295616215679173e-07 with parameters: {'num_unit1': 24, 'num_unit2': 11}. Best is trial#5 with value: 2.2770672777829694e-07.\n"
     ]
    },
    {
     "name": "stdout",
     "output_type": "stream",
     "text": [
      "#10: units=[99, 3]: samples=40/51, mean=1.6231e-07, std=1.7794e-07\n",
      "\n"
     ]
    },
    {
     "name": "stderr",
     "output_type": "stream",
     "text": [
      "[I 2020-07-21 15:13:07,090] Finished trial#10 with value: 1.6230892272428576e-07 with parameters: {'num_unit1': 99, 'num_unit2': 3}. Best is trial#10 with value: 1.6230892272428576e-07.\n"
     ]
    },
    {
     "name": "stdout",
     "output_type": "stream",
     "text": [
      "#11: units=[93, 3]: samples=40/51, mean=2.3233e-07, std=3.3159e-07\n",
      "\n"
     ]
    },
    {
     "name": "stderr",
     "output_type": "stream",
     "text": [
      "[I 2020-07-21 15:17:30,566] Finished trial#11 with value: 2.3232753338930933e-07 with parameters: {'num_unit1': 93, 'num_unit2': 3}. Best is trial#10 with value: 1.6230892272428576e-07.\n"
     ]
    },
    {
     "name": "stdout",
     "output_type": "stream",
     "text": [
      "#12: units=[98, 3]: samples=45/51, mean=7.5854e-07, std=9.8949e-07\n",
      "\n"
     ]
    },
    {
     "name": "stderr",
     "output_type": "stream",
     "text": [
      "[I 2020-07-21 15:21:53,587] Finished trial#12 with value: 7.585370385143619e-07 with parameters: {'num_unit1': 98, 'num_unit2': 3}. Best is trial#10 with value: 1.6230892272428576e-07.\n"
     ]
    },
    {
     "name": "stdout",
     "output_type": "stream",
     "text": [
      "#13: units=[72, 5]: samples=41/51, mean=2.1685e-07, std=2.3960e-07\n",
      "\n"
     ]
    },
    {
     "name": "stderr",
     "output_type": "stream",
     "text": [
      "[I 2020-07-21 15:25:42,333] Finished trial#13 with value: 2.168481127995392e-07 with parameters: {'num_unit1': 72, 'num_unit2': 5}. Best is trial#10 with value: 1.6230892272428576e-07.\n"
     ]
    },
    {
     "name": "stdout",
     "output_type": "stream",
     "text": [
      "#14: units=[68, 6]: samples=43/51, mean=3.9573e-07, std=5.7888e-07\n",
      "\n"
     ]
    },
    {
     "name": "stderr",
     "output_type": "stream",
     "text": [
      "[I 2020-07-21 15:29:22,310] Finished trial#14 with value: 3.9572506360146957e-07 with parameters: {'num_unit1': 68, 'num_unit2': 6}. Best is trial#10 with value: 1.6230892272428576e-07.\n"
     ]
    },
    {
     "name": "stdout",
     "output_type": "stream",
     "text": [
      "#15: units=[98, 1]: samples=43/51, mean=6.1956e-08, std=6.0341e-08\n",
      "\n"
     ]
    },
    {
     "name": "stderr",
     "output_type": "stream",
     "text": [
      "[I 2020-07-21 15:33:31,750] Finished trial#15 with value: 6.195561872320817e-08 with parameters: {'num_unit1': 98, 'num_unit2': 1}. Best is trial#15 with value: 6.195561872320817e-08.\n"
     ]
    },
    {
     "name": "stdout",
     "output_type": "stream",
     "text": [
      "#16: units=[100, 1]: samples=43/51, mean=1.3014e-07, std=1.7723e-07\n",
      "\n"
     ]
    },
    {
     "name": "stderr",
     "output_type": "stream",
     "text": [
      "[I 2020-07-21 15:37:35,555] Finished trial#16 with value: 1.3014378732312777e-07 with parameters: {'num_unit1': 100, 'num_unit2': 1}. Best is trial#15 with value: 6.195561872320817e-08.\n"
     ]
    },
    {
     "name": "stdout",
     "output_type": "stream",
     "text": [
      "#17: units=[87, 1]: samples=43/51, mean=1.2889e-07, std=1.6476e-07\n",
      "\n"
     ]
    },
    {
     "name": "stderr",
     "output_type": "stream",
     "text": [
      "[I 2020-07-21 15:41:44,657] Finished trial#17 with value: 1.2888618133478816e-07 with parameters: {'num_unit1': 87, 'num_unit2': 1}. Best is trial#15 with value: 6.195561872320817e-08.\n"
     ]
    },
    {
     "name": "stdout",
     "output_type": "stream",
     "text": [
      "#18: units=[89, 1]: samples=46/51, mean=1.3332e-07, std=1.8143e-07\n",
      "\n"
     ]
    },
    {
     "name": "stderr",
     "output_type": "stream",
     "text": [
      "[I 2020-07-21 15:45:48,055] Finished trial#18 with value: 1.3331673238788874e-07 with parameters: {'num_unit1': 89, 'num_unit2': 1}. Best is trial#15 with value: 6.195561872320817e-08.\n"
     ]
    },
    {
     "name": "stdout",
     "output_type": "stream",
     "text": [
      "#19: units=[40, 9]: samples=42/51, mean=2.2936e-07, std=3.0733e-07\n",
      "\n"
     ]
    },
    {
     "name": "stderr",
     "output_type": "stream",
     "text": [
      "[I 2020-07-21 15:49:08,984] Finished trial#19 with value: 2.2935615011442949e-07 with parameters: {'num_unit1': 40, 'num_unit2': 9}. Best is trial#15 with value: 6.195561872320817e-08.\n"
     ]
    },
    {
     "name": "stdout",
     "output_type": "stream",
     "text": [
      "#20: units=[67, 2]: samples=45/51, mean=5.7211e-07, std=7.8761e-07\n",
      "\n"
     ]
    },
    {
     "name": "stderr",
     "output_type": "stream",
     "text": [
      "[I 2020-07-21 15:53:00,263] Finished trial#20 with value: 5.721138219961908e-07 with parameters: {'num_unit1': 67, 'num_unit2': 2}. Best is trial#15 with value: 6.195561872320817e-08.\n"
     ]
    },
    {
     "name": "stdout",
     "output_type": "stream",
     "text": [
      "#21: units=[100, 1]: samples=43/51, mean=8.6264e-08, std=9.7338e-08\n",
      "\n"
     ]
    },
    {
     "name": "stderr",
     "output_type": "stream",
     "text": [
      "[I 2020-07-21 15:56:52,474] Finished trial#21 with value: 8.626399387577224e-08 with parameters: {'num_unit1': 100, 'num_unit2': 1}. Best is trial#15 with value: 6.195561872320817e-08.\n"
     ]
    },
    {
     "name": "stdout",
     "output_type": "stream",
     "text": [
      "#22: units=[87, 1]: samples=44/51, mean=1.5802e-07, std=2.7282e-07\n",
      "\n"
     ]
    },
    {
     "name": "stderr",
     "output_type": "stream",
     "text": [
      "[I 2020-07-21 16:00:50,492] Finished trial#22 with value: 1.5802049920092417e-07 with parameters: {'num_unit1': 87, 'num_unit2': 1}. Best is trial#15 with value: 6.195561872320817e-08.\n"
     ]
    },
    {
     "name": "stdout",
     "output_type": "stream",
     "text": [
      "#23: units=[95, 1]: samples=43/51, mean=1.4124e-07, std=1.9679e-07\n",
      "\n"
     ]
    },
    {
     "name": "stderr",
     "output_type": "stream",
     "text": [
      "[I 2020-07-21 16:05:13,705] Finished trial#23 with value: 1.4124074128351117e-07 with parameters: {'num_unit1': 95, 'num_unit2': 1}. Best is trial#15 with value: 6.195561872320817e-08.\n"
     ]
    },
    {
     "name": "stdout",
     "output_type": "stream",
     "text": [
      "#24: units=[81, 2]: samples=44/51, mean=3.8981e-07, std=5.8073e-07\n",
      "\n"
     ]
    },
    {
     "name": "stderr",
     "output_type": "stream",
     "text": [
      "[I 2020-07-21 16:09:44,146] Finished trial#24 with value: 3.89808655808611e-07 with parameters: {'num_unit1': 81, 'num_unit2': 2}. Best is trial#15 with value: 6.195561872320817e-08.\n"
     ]
    },
    {
     "name": "stdout",
     "output_type": "stream",
     "text": [
      "#25: units=[100, 1]: samples=42/51, mean=1.4186e-07, std=2.2147e-07\n",
      "\n"
     ]
    },
    {
     "name": "stderr",
     "output_type": "stream",
     "text": [
      "[I 2020-07-21 16:14:08,806] Finished trial#25 with value: 1.418610620825452e-07 with parameters: {'num_unit1': 100, 'num_unit2': 1}. Best is trial#15 with value: 6.195561872320817e-08.\n"
     ]
    },
    {
     "name": "stdout",
     "output_type": "stream",
     "text": [
      "#26: units=[61, 7]: samples=41/51, mean=1.9630e-07, std=2.9586e-07\n",
      "\n"
     ]
    },
    {
     "name": "stderr",
     "output_type": "stream",
     "text": [
      "[I 2020-07-21 16:18:27,226] Finished trial#26 with value: 1.9629593956797706e-07 with parameters: {'num_unit1': 61, 'num_unit2': 7}. Best is trial#15 with value: 6.195561872320817e-08.\n"
     ]
    },
    {
     "name": "stdout",
     "output_type": "stream",
     "text": [
      "#27: units=[77, 2]: samples=45/51, mean=2.3601e-07, std=2.7304e-07\n",
      "\n"
     ]
    },
    {
     "name": "stderr",
     "output_type": "stream",
     "text": [
      "[I 2020-07-21 16:23:47,915] Finished trial#27 with value: 2.360109361276841e-07 with parameters: {'num_unit1': 77, 'num_unit2': 2}. Best is trial#15 with value: 6.195561872320817e-08.\n"
     ]
    },
    {
     "name": "stdout",
     "output_type": "stream",
     "text": [
      "#28: units=[91, 1]: samples=43/51, mean=2.4724e-07, std=3.9570e-07\n",
      "\n"
     ]
    },
    {
     "name": "stderr",
     "output_type": "stream",
     "text": [
      "[I 2020-07-21 16:29:26,969] Finished trial#28 with value: 2.47237025911549e-07 with parameters: {'num_unit1': 91, 'num_unit2': 1}. Best is trial#15 with value: 6.195561872320817e-08.\n"
     ]
    },
    {
     "name": "stdout",
     "output_type": "stream",
     "text": [
      "#29: units=[14, 29]: samples=45/51, mean=3.1370e-07, std=3.4747e-07\n",
      "\n"
     ]
    },
    {
     "name": "stderr",
     "output_type": "stream",
     "text": [
      "[I 2020-07-21 16:34:26,280] Finished trial#29 with value: 3.1370480544110376e-07 with parameters: {'num_unit1': 14, 'num_unit2': 29}. Best is trial#15 with value: 6.195561872320817e-08.\n"
     ]
    },
    {
     "name": "stdout",
     "output_type": "stream",
     "text": [
      "#30: units=[88, 4]: samples=42/51, mean=5.5490e-07, std=8.8760e-07\n",
      "\n"
     ]
    },
    {
     "name": "stderr",
     "output_type": "stream",
     "text": [
      "[I 2020-07-21 16:39:22,157] Finished trial#30 with value: 5.548977955645759e-07 with parameters: {'num_unit1': 88, 'num_unit2': 4}. Best is trial#15 with value: 6.195561872320817e-08.\n"
     ]
    },
    {
     "name": "stdout",
     "output_type": "stream",
     "text": [
      "#31: units=[99, 1]: samples=43/51, mean=1.3473e-07, std=1.9719e-07\n",
      "\n"
     ]
    },
    {
     "name": "stderr",
     "output_type": "stream",
     "text": [
      "[I 2020-07-21 16:43:46,687] Finished trial#31 with value: 1.3473472506162385e-07 with parameters: {'num_unit1': 99, 'num_unit2': 1}. Best is trial#15 with value: 6.195561872320817e-08.\n"
     ]
    },
    {
     "name": "stdout",
     "output_type": "stream",
     "text": [
      "#32: units=[100, 1]: samples=44/51, mean=1.5089e-07, std=2.0716e-07\n",
      "\n"
     ]
    },
    {
     "name": "stderr",
     "output_type": "stream",
     "text": [
      "[I 2020-07-21 16:48:07,181] Finished trial#32 with value: 1.508890799579115e-07 with parameters: {'num_unit1': 100, 'num_unit2': 1}. Best is trial#15 with value: 6.195561872320817e-08.\n"
     ]
    },
    {
     "name": "stdout",
     "output_type": "stream",
     "text": [
      "#33: units=[93, 1]: samples=43/51, mean=9.9277e-08, std=1.0534e-07\n",
      "\n"
     ]
    },
    {
     "name": "stderr",
     "output_type": "stream",
     "text": [
      "[I 2020-07-21 16:52:28,124] Finished trial#33 with value: 9.927735924298259e-08 with parameters: {'num_unit1': 93, 'num_unit2': 1}. Best is trial#15 with value: 6.195561872320817e-08.\n"
     ]
    },
    {
     "name": "stdout",
     "output_type": "stream",
     "text": [
      "#34: units=[46, 4]: samples=44/51, mean=1.9600e-07, std=2.0033e-07\n",
      "\n"
     ]
    },
    {
     "name": "stderr",
     "output_type": "stream",
     "text": [
      "[I 2020-07-21 16:56:11,454] Finished trial#34 with value: 1.9599677020759093e-07 with parameters: {'num_unit1': 46, 'num_unit2': 4}. Best is trial#15 with value: 6.195561872320817e-08.\n"
     ]
    },
    {
     "name": "stdout",
     "output_type": "stream",
     "text": [
      "#35: units=[84, 1]: samples=45/51, mean=1.1109e-07, std=1.1281e-07\n",
      "\n"
     ]
    },
    {
     "name": "stderr",
     "output_type": "stream",
     "text": [
      "[I 2020-07-21 17:00:15,432] Finished trial#35 with value: 1.1108581388086236e-07 with parameters: {'num_unit1': 84, 'num_unit2': 1}. Best is trial#15 with value: 6.195561872320817e-08.\n"
     ]
    },
    {
     "name": "stdout",
     "output_type": "stream",
     "text": [
      "#36: units=[83, 1]: samples=42/51, mean=4.7989e-08, std=5.2890e-08\n",
      "\n"
     ]
    },
    {
     "name": "stderr",
     "output_type": "stream",
     "text": [
      "[I 2020-07-21 17:04:32,241] Finished trial#36 with value: 4.798946123025465e-08 with parameters: {'num_unit1': 83, 'num_unit2': 1}. Best is trial#36 with value: 4.798946123025465e-08.\n"
     ]
    },
    {
     "name": "stdout",
     "output_type": "stream",
     "text": [
      "#37: units=[94, 1]: samples=44/51, mean=6.2865e-08, std=6.3159e-08\n",
      "\n"
     ]
    },
    {
     "name": "stderr",
     "output_type": "stream",
     "text": [
      "[I 2020-07-21 17:08:46,956] Finished trial#37 with value: 6.286491902798084e-08 with parameters: {'num_unit1': 94, 'num_unit2': 1}. Best is trial#36 with value: 4.798946123025465e-08.\n"
     ]
    },
    {
     "name": "stdout",
     "output_type": "stream",
     "text": [
      "#38: units=[75, 2]: samples=44/51, mean=2.1325e-07, std=2.4562e-07\n",
      "\n"
     ]
    },
    {
     "name": "stderr",
     "output_type": "stream",
     "text": [
      "[I 2020-07-21 17:13:22,050] Finished trial#38 with value: 2.1324804778576445e-07 with parameters: {'num_unit1': 75, 'num_unit2': 2}. Best is trial#36 with value: 4.798946123025465e-08.\n"
     ]
    },
    {
     "name": "stdout",
     "output_type": "stream",
     "text": [
      "#39: units=[82, 2]: samples=45/51, mean=3.1225e-07, std=4.0722e-07\n",
      "\n"
     ]
    },
    {
     "name": "stderr",
     "output_type": "stream",
     "text": [
      "[I 2020-07-21 17:18:01,584] Finished trial#39 with value: 3.12249505486485e-07 with parameters: {'num_unit1': 82, 'num_unit2': 2}. Best is trial#36 with value: 4.798946123025465e-08.\n"
     ]
    },
    {
     "name": "stdout",
     "output_type": "stream",
     "text": [
      "#40: units=[58, 2]: samples=42/51, mean=1.1945e-07, std=1.0014e-07\n",
      "\n"
     ]
    },
    {
     "name": "stderr",
     "output_type": "stream",
     "text": [
      "[I 2020-07-21 17:22:17,461] Finished trial#40 with value: 1.1944625168323698e-07 with parameters: {'num_unit1': 58, 'num_unit2': 2}. Best is trial#36 with value: 4.798946123025465e-08.\n"
     ]
    },
    {
     "name": "stdout",
     "output_type": "stream",
     "text": [
      "#41: units=[93, 1]: samples=44/51, mean=1.1689e-07, std=1.4364e-07\n",
      "\n"
     ]
    },
    {
     "name": "stderr",
     "output_type": "stream",
     "text": [
      "[I 2020-07-21 17:26:46,222] Finished trial#41 with value: 1.1688911961581606e-07 with parameters: {'num_unit1': 93, 'num_unit2': 1}. Best is trial#36 with value: 4.798946123025465e-08.\n"
     ]
    },
    {
     "name": "stdout",
     "output_type": "stream",
     "text": [
      "#42: units=[95, 1]: samples=44/51, mean=1.3647e-07, std=1.9527e-07\n",
      "\n"
     ]
    },
    {
     "name": "stderr",
     "output_type": "stream",
     "text": [
      "[I 2020-07-21 17:30:57,925] Finished trial#42 with value: 1.3647221385294406e-07 with parameters: {'num_unit1': 95, 'num_unit2': 1}. Best is trial#36 with value: 4.798946123025465e-08.\n"
     ]
    },
    {
     "name": "stdout",
     "output_type": "stream",
     "text": [
      "#43: units=[94, 1]: samples=45/51, mean=2.2843e-07, std=2.8942e-07\n",
      "\n"
     ]
    },
    {
     "name": "stderr",
     "output_type": "stream",
     "text": [
      "[I 2020-07-21 17:34:04,146] Finished trial#43 with value: 2.2843391806285732e-07 with parameters: {'num_unit1': 94, 'num_unit2': 1}. Best is trial#36 with value: 4.798946123025465e-08.\n"
     ]
    },
    {
     "name": "stdout",
     "output_type": "stream",
     "text": [
      "#44: units=[84, 1]: samples=42/51, mean=2.2035e-07, std=2.9379e-07\n",
      "\n"
     ]
    },
    {
     "name": "stderr",
     "output_type": "stream",
     "text": [
      "[I 2020-07-21 17:37:07,261] Finished trial#44 with value: 2.203499015844083e-07 with parameters: {'num_unit1': 84, 'num_unit2': 1}. Best is trial#36 with value: 4.798946123025465e-08.\n"
     ]
    },
    {
     "name": "stdout",
     "output_type": "stream",
     "text": [
      "#45: units=[96, 1]: samples=43/51, mean=2.5172e-07, std=4.8773e-07\n",
      "\n"
     ]
    },
    {
     "name": "stderr",
     "output_type": "stream",
     "text": [
      "[I 2020-07-21 17:40:08,621] Finished trial#45 with value: 2.5172307785490556e-07 with parameters: {'num_unit1': 96, 'num_unit2': 1}. Best is trial#36 with value: 4.798946123025465e-08.\n"
     ]
    },
    {
     "name": "stdout",
     "output_type": "stream",
     "text": [
      "#46: units=[77, 2]: samples=43/51, mean=3.2390e-07, std=5.2750e-07\n",
      "\n"
     ]
    },
    {
     "name": "stderr",
     "output_type": "stream",
     "text": [
      "[I 2020-07-21 17:43:29,355] Finished trial#46 with value: 3.238977206753224e-07 with parameters: {'num_unit1': 77, 'num_unit2': 2}. Best is trial#36 with value: 4.798946123025465e-08.\n"
     ]
    },
    {
     "name": "stdout",
     "output_type": "stream",
     "text": [
      "#47: units=[88, 1]: samples=44/51, mean=1.6560e-07, std=1.8119e-07\n",
      "\n"
     ]
    },
    {
     "name": "stderr",
     "output_type": "stream",
     "text": [
      "[I 2020-07-21 17:46:29,591] Finished trial#47 with value: 1.6560028785624195e-07 with parameters: {'num_unit1': 88, 'num_unit2': 1}. Best is trial#36 with value: 4.798946123025465e-08.\n"
     ]
    },
    {
     "name": "stdout",
     "output_type": "stream",
     "text": [
      "#48: units=[68, 2]: samples=41/51, mean=1.9415e-07, std=2.3201e-07\n",
      "\n"
     ]
    },
    {
     "name": "stderr",
     "output_type": "stream",
     "text": [
      "[I 2020-07-21 17:49:32,580] Finished trial#48 with value: 1.941545291368853e-07 with parameters: {'num_unit1': 68, 'num_unit2': 2}. Best is trial#36 with value: 4.798946123025465e-08.\n"
     ]
    },
    {
     "name": "stdout",
     "output_type": "stream",
     "text": [
      "#49: units=[91, 1]: samples=43/51, mean=9.2967e-08, std=1.2242e-07\n",
      "\n"
     ]
    },
    {
     "name": "stderr",
     "output_type": "stream",
     "text": [
      "[I 2020-07-21 17:52:44,804] Finished trial#49 with value: 9.296697707268944e-08 with parameters: {'num_unit1': 91, 'num_unit2': 1}. Best is trial#36 with value: 4.798946123025465e-08.\n"
     ]
    },
    {
     "name": "stdout",
     "output_type": "stream",
     "text": [
      "#50: units=[85, 1]: samples=42/51, mean=8.6021e-08, std=9.6779e-08\n",
      "\n"
     ]
    },
    {
     "name": "stderr",
     "output_type": "stream",
     "text": [
      "[I 2020-07-21 17:55:55,476] Finished trial#50 with value: 8.602126924000821e-08 with parameters: {'num_unit1': 85, 'num_unit2': 1}. Best is trial#36 with value: 4.798946123025465e-08.\n"
     ]
    },
    {
     "name": "stdout",
     "output_type": "stream",
     "text": [
      "#51: units=[85, 1]: samples=44/51, mean=1.1853e-07, std=1.4300e-07\n",
      "\n"
     ]
    },
    {
     "name": "stderr",
     "output_type": "stream",
     "text": [
      "[I 2020-07-21 17:59:05,883] Finished trial#51 with value: 1.185349673062739e-07 with parameters: {'num_unit1': 85, 'num_unit2': 1}. Best is trial#36 with value: 4.798946123025465e-08.\n"
     ]
    },
    {
     "name": "stdout",
     "output_type": "stream",
     "text": [
      "#52: units=[79, 1]: samples=47/51, mean=9.1605e-08, std=8.9383e-08\n",
      "\n"
     ]
    },
    {
     "name": "stderr",
     "output_type": "stream",
     "text": [
      "[I 2020-07-21 18:02:13,832] Finished trial#52 with value: 9.160455461788634e-08 with parameters: {'num_unit1': 79, 'num_unit2': 1}. Best is trial#36 with value: 4.798946123025465e-08.\n"
     ]
    },
    {
     "name": "stdout",
     "output_type": "stream",
     "text": [
      "#53: units=[79, 1]: samples=41/51, mean=4.2377e-08, std=4.5285e-08\n",
      "\n"
     ]
    },
    {
     "name": "stderr",
     "output_type": "stream",
     "text": [
      "[I 2020-07-21 18:05:21,518] Finished trial#53 with value: 4.2377429987902954e-08 with parameters: {'num_unit1': 79, 'num_unit2': 1}. Best is trial#53 with value: 4.2377429987902954e-08.\n"
     ]
    },
    {
     "name": "stdout",
     "output_type": "stream",
     "text": [
      "#54: units=[72, 2]: samples=43/51, mean=2.9875e-07, std=3.6052e-07\n",
      "\n"
     ]
    },
    {
     "name": "stderr",
     "output_type": "stream",
     "text": [
      "[I 2020-07-21 18:08:29,266] Finished trial#54 with value: 2.9874664639780697e-07 with parameters: {'num_unit1': 72, 'num_unit2': 2}. Best is trial#53 with value: 4.2377429987902954e-08.\n"
     ]
    },
    {
     "name": "stdout",
     "output_type": "stream",
     "text": [
      "#55: units=[80, 1]: samples=42/51, mean=7.8359e-08, std=9.7372e-08\n",
      "\n"
     ]
    },
    {
     "name": "stderr",
     "output_type": "stream",
     "text": [
      "[I 2020-07-21 18:11:26,270] Finished trial#55 with value: 7.835890968363589e-08 with parameters: {'num_unit1': 80, 'num_unit2': 1}. Best is trial#53 with value: 4.2377429987902954e-08.\n"
     ]
    },
    {
     "name": "stdout",
     "output_type": "stream",
     "text": [
      "#56: units=[64, 3]: samples=46/51, mean=2.9909e-07, std=3.8219e-07\n",
      "\n"
     ]
    },
    {
     "name": "stderr",
     "output_type": "stream",
     "text": [
      "[I 2020-07-21 18:14:25,257] Finished trial#56 with value: 2.9909130125228894e-07 with parameters: {'num_unit1': 64, 'num_unit2': 3}. Best is trial#53 with value: 4.2377429987902954e-08.\n"
     ]
    },
    {
     "name": "stdout",
     "output_type": "stream",
     "text": [
      "#57: units=[80, 1]: samples=44/51, mean=8.0640e-08, std=8.7336e-08\n",
      "\n"
     ]
    },
    {
     "name": "stderr",
     "output_type": "stream",
     "text": [
      "[I 2020-07-21 18:17:22,148] Finished trial#57 with value: 8.064035859269646e-08 with parameters: {'num_unit1': 80, 'num_unit2': 1}. Best is trial#53 with value: 4.2377429987902954e-08.\n"
     ]
    },
    {
     "name": "stdout",
     "output_type": "stream",
     "text": [
      "#58: units=[70, 2]: samples=43/51, mean=1.2022e-07, std=1.2609e-07\n",
      "\n"
     ]
    },
    {
     "name": "stderr",
     "output_type": "stream",
     "text": [
      "[I 2020-07-21 18:20:38,271] Finished trial#58 with value: 1.2022076976819396e-07 with parameters: {'num_unit1': 70, 'num_unit2': 2}. Best is trial#53 with value: 4.2377429987902954e-08.\n"
     ]
    },
    {
     "name": "stdout",
     "output_type": "stream",
     "text": [
      "#59: units=[80, 1]: samples=45/51, mean=8.4893e-08, std=7.3674e-08\n",
      "\n"
     ]
    },
    {
     "name": "stderr",
     "output_type": "stream",
     "text": [
      "[I 2020-07-21 18:23:36,953] Finished trial#59 with value: 8.489252175299573e-08 with parameters: {'num_unit1': 80, 'num_unit2': 1}. Best is trial#53 with value: 4.2377429987902954e-08.\n"
     ]
    },
    {
     "name": "stdout",
     "output_type": "stream",
     "text": [
      "#60: units=[76, 1]: samples=43/51, mean=1.4068e-07, std=1.9046e-07\n",
      "\n"
     ]
    },
    {
     "name": "stderr",
     "output_type": "stream",
     "text": [
      "[I 2020-07-21 18:26:38,230] Finished trial#60 with value: 1.4068200074646927e-07 with parameters: {'num_unit1': 76, 'num_unit2': 1}. Best is trial#53 with value: 4.2377429987902954e-08.\n"
     ]
    },
    {
     "name": "stdout",
     "output_type": "stream",
     "text": [
      "#61: units=[82, 1]: samples=43/51, mean=1.2864e-07, std=1.4003e-07\n",
      "\n"
     ]
    },
    {
     "name": "stderr",
     "output_type": "stream",
     "text": [
      "[I 2020-07-21 18:29:43,064] Finished trial#61 with value: 1.2863920919695709e-07 with parameters: {'num_unit1': 82, 'num_unit2': 1}. Best is trial#53 with value: 4.2377429987902954e-08.\n"
     ]
    },
    {
     "name": "stdout",
     "output_type": "stream",
     "text": [
      "#62: units=[79, 1]: samples=44/51, mean=9.2661e-08, std=1.0457e-07\n",
      "\n"
     ]
    },
    {
     "name": "stderr",
     "output_type": "stream",
     "text": [
      "[I 2020-07-21 18:32:52,278] Finished trial#62 with value: 9.266145692158032e-08 with parameters: {'num_unit1': 79, 'num_unit2': 1}. Best is trial#53 with value: 4.2377429987902954e-08.\n"
     ]
    },
    {
     "name": "stdout",
     "output_type": "stream",
     "text": [
      "#63: units=[73, 1]: samples=42/51, mean=6.9272e-08, std=6.0703e-08\n",
      "\n"
     ]
    },
    {
     "name": "stderr",
     "output_type": "stream",
     "text": [
      "[I 2020-07-21 18:35:59,333] Finished trial#63 with value: 6.927165032065221e-08 with parameters: {'num_unit1': 73, 'num_unit2': 1}. Best is trial#53 with value: 4.2377429987902954e-08.\n"
     ]
    },
    {
     "name": "stdout",
     "output_type": "stream",
     "text": [
      "#64: units=[52, 8]: samples=41/51, mean=3.5897e-07, std=5.2121e-07\n",
      "\n"
     ]
    },
    {
     "name": "stderr",
     "output_type": "stream",
     "text": [
      "[I 2020-07-21 18:38:58,235] Finished trial#64 with value: 3.5896506944146584e-07 with parameters: {'num_unit1': 52, 'num_unit2': 8}. Best is trial#53 with value: 4.2377429987902954e-08.\n"
     ]
    },
    {
     "name": "stdout",
     "output_type": "stream",
     "text": [
      "#65: units=[64, 2]: samples=45/51, mean=1.9272e-07, std=2.1319e-07\n",
      "\n"
     ]
    },
    {
     "name": "stderr",
     "output_type": "stream",
     "text": [
      "[I 2020-07-21 18:42:00,570] Finished trial#65 with value: 1.9272243411015842e-07 with parameters: {'num_unit1': 64, 'num_unit2': 2}. Best is trial#53 with value: 4.2377429987902954e-08.\n"
     ]
    },
    {
     "name": "stdout",
     "output_type": "stream",
     "text": [
      "#66: units=[74, 1]: samples=43/51, mean=1.7001e-07, std=1.9602e-07\n",
      "\n"
     ]
    },
    {
     "name": "stderr",
     "output_type": "stream",
     "text": [
      "[I 2020-07-21 18:45:00,591] Finished trial#66 with value: 1.7000520385761187e-07 with parameters: {'num_unit1': 74, 'num_unit2': 1}. Best is trial#53 with value: 4.2377429987902954e-08.\n"
     ]
    },
    {
     "name": "stdout",
     "output_type": "stream",
     "text": [
      "#67: units=[89, 1]: samples=42/51, mean=1.1556e-07, std=1.7538e-07\n",
      "\n"
     ]
    },
    {
     "name": "stderr",
     "output_type": "stream",
     "text": [
      "[I 2020-07-21 18:48:15,010] Finished trial#67 with value: 1.1555835654512913e-07 with parameters: {'num_unit1': 89, 'num_unit2': 1}. Best is trial#53 with value: 4.2377429987902954e-08.\n"
     ]
    },
    {
     "name": "stdout",
     "output_type": "stream",
     "text": [
      "#68: units=[71, 1]: samples=44/51, mean=2.2819e-07, std=3.2858e-07\n",
      "\n"
     ]
    },
    {
     "name": "stderr",
     "output_type": "stream",
     "text": [
      "[I 2020-07-21 18:51:23,777] Finished trial#68 with value: 2.2819281261546562e-07 with parameters: {'num_unit1': 71, 'num_unit2': 1}. Best is trial#53 with value: 4.2377429987902954e-08.\n"
     ]
    },
    {
     "name": "stdout",
     "output_type": "stream",
     "text": [
      "#69: units=[97, 1]: samples=42/51, mean=9.3353e-08, std=1.4286e-07\n",
      "\n"
     ]
    },
    {
     "name": "stderr",
     "output_type": "stream",
     "text": [
      "[I 2020-07-21 18:54:45,823] Finished trial#69 with value: 9.335333061075278e-08 with parameters: {'num_unit1': 97, 'num_unit2': 1}. Best is trial#53 with value: 4.2377429987902954e-08.\n"
     ]
    },
    {
     "name": "stdout",
     "output_type": "stream",
     "text": [
      "#70: units=[91, 1]: samples=44/51, mean=1.0664e-07, std=1.4371e-07\n",
      "\n"
     ]
    },
    {
     "name": "stderr",
     "output_type": "stream",
     "text": [
      "[I 2020-07-21 18:58:00,436] Finished trial#70 with value: 1.0664208739307281e-07 with parameters: {'num_unit1': 91, 'num_unit2': 1}. Best is trial#53 with value: 4.2377429987902954e-08.\n"
     ]
    },
    {
     "name": "stdout",
     "output_type": "stream",
     "text": [
      "#71: units=[80, 1]: samples=43/51, mean=7.1074e-08, std=9.0924e-08\n",
      "\n"
     ]
    },
    {
     "name": "stderr",
     "output_type": "stream",
     "text": [
      "[I 2020-07-21 19:01:01,383] Finished trial#71 with value: 7.10736037672045e-08 with parameters: {'num_unit1': 80, 'num_unit2': 1}. Best is trial#53 with value: 4.2377429987902954e-08.\n"
     ]
    },
    {
     "name": "stdout",
     "output_type": "stream",
     "text": [
      "#72: units=[77, 1]: samples=43/51, mean=1.5533e-07, std=1.8829e-07\n",
      "\n"
     ]
    },
    {
     "name": "stderr",
     "output_type": "stream",
     "text": [
      "[I 2020-07-21 19:04:10,792] Finished trial#72 with value: 1.553335113662017e-07 with parameters: {'num_unit1': 77, 'num_unit2': 1}. Best is trial#53 with value: 4.2377429987902954e-08.\n"
     ]
    },
    {
     "name": "stdout",
     "output_type": "stream",
     "text": [
      "#73: units=[82, 1]: samples=43/51, mean=2.0560e-07, std=2.4649e-07\n",
      "\n"
     ]
    },
    {
     "name": "stderr",
     "output_type": "stream",
     "text": [
      "[I 2020-07-21 19:07:16,768] Finished trial#73 with value: 2.056038767972962e-07 with parameters: {'num_unit1': 82, 'num_unit2': 1}. Best is trial#53 with value: 4.2377429987902954e-08.\n"
     ]
    },
    {
     "name": "stdout",
     "output_type": "stream",
     "text": [
      "#74: units=[74, 1]: samples=43/51, mean=1.9686e-07, std=2.4858e-07\n",
      "\n"
     ]
    },
    {
     "name": "stderr",
     "output_type": "stream",
     "text": [
      "[I 2020-07-21 19:10:17,621] Finished trial#74 with value: 1.968642823641341e-07 with parameters: {'num_unit1': 74, 'num_unit2': 1}. Best is trial#53 with value: 4.2377429987902954e-08.\n"
     ]
    },
    {
     "name": "stdout",
     "output_type": "stream",
     "text": [
      "#75: units=[86, 1]: samples=44/51, mean=8.9019e-08, std=9.7151e-08\n",
      "\n"
     ]
    },
    {
     "name": "stderr",
     "output_type": "stream",
     "text": [
      "[I 2020-07-21 19:13:24,784] Finished trial#75 with value: 8.901948245210178e-08 with parameters: {'num_unit1': 86, 'num_unit2': 1}. Best is trial#53 with value: 4.2377429987902954e-08.\n"
     ]
    },
    {
     "name": "stdout",
     "output_type": "stream",
     "text": [
      "#76: units=[90, 1]: samples=43/51, mean=1.1622e-07, std=1.5269e-07\n",
      "\n"
     ]
    },
    {
     "name": "stderr",
     "output_type": "stream",
     "text": [
      "[I 2020-07-21 19:16:32,634] Finished trial#76 with value: 1.162226202099975e-07 with parameters: {'num_unit1': 90, 'num_unit2': 1}. Best is trial#53 with value: 4.2377429987902954e-08.\n"
     ]
    },
    {
     "name": "stdout",
     "output_type": "stream",
     "text": [
      "#77: units=[66, 2]: samples=43/51, mean=1.8165e-07, std=2.1429e-07\n",
      "\n"
     ]
    },
    {
     "name": "stderr",
     "output_type": "stream",
     "text": [
      "[I 2020-07-21 19:19:44,640] Finished trial#77 with value: 1.8164834200631154e-07 with parameters: {'num_unit1': 66, 'num_unit2': 2}. Best is trial#53 with value: 4.2377429987902954e-08.\n"
     ]
    },
    {
     "name": "stdout",
     "output_type": "stream",
     "text": [
      "#78: units=[79, 1]: samples=44/51, mean=1.5268e-07, std=1.9745e-07\n",
      "\n"
     ]
    },
    {
     "name": "stderr",
     "output_type": "stream",
     "text": [
      "[I 2020-07-21 19:22:55,267] Finished trial#78 with value: 1.526785406991138e-07 with parameters: {'num_unit1': 79, 'num_unit2': 1}. Best is trial#53 with value: 4.2377429987902954e-08.\n"
     ]
    },
    {
     "name": "stdout",
     "output_type": "stream",
     "text": [
      "#79: units=[83, 1]: samples=43/51, mean=7.4112e-08, std=8.6588e-08\n",
      "\n"
     ]
    },
    {
     "name": "stderr",
     "output_type": "stream",
     "text": [
      "[I 2020-07-21 19:26:07,735] Finished trial#79 with value: 7.411243147863404e-08 with parameters: {'num_unit1': 83, 'num_unit2': 1}. Best is trial#53 with value: 4.2377429987902954e-08.\n"
     ]
    },
    {
     "name": "stdout",
     "output_type": "stream",
     "text": [
      "#80: units=[30, 15]: samples=44/51, mean=4.3661e-07, std=5.9084e-07\n",
      "\n"
     ]
    },
    {
     "name": "stderr",
     "output_type": "stream",
     "text": [
      "[I 2020-07-21 19:29:01,926] Finished trial#80 with value: 4.3661270405175917e-07 with parameters: {'num_unit1': 30, 'num_unit2': 15}. Best is trial#53 with value: 4.2377429987902954e-08.\n"
     ]
    },
    {
     "name": "stdout",
     "output_type": "stream",
     "text": [
      "#81: units=[81, 1]: samples=41/51, mean=1.3217e-07, std=2.2250e-07\n",
      "\n"
     ]
    },
    {
     "name": "stderr",
     "output_type": "stream",
     "text": [
      "[I 2020-07-21 19:32:14,275] Finished trial#81 with value: 1.3217060768337843e-07 with parameters: {'num_unit1': 81, 'num_unit2': 1}. Best is trial#53 with value: 4.2377429987902954e-08.\n"
     ]
    },
    {
     "name": "stdout",
     "output_type": "stream",
     "text": [
      "#82: units=[86, 1]: samples=44/51, mean=1.3642e-07, std=1.7954e-07\n",
      "\n"
     ]
    },
    {
     "name": "stderr",
     "output_type": "stream",
     "text": [
      "[I 2020-07-21 19:35:22,639] Finished trial#82 with value: 1.3641724027170132e-07 with parameters: {'num_unit1': 86, 'num_unit2': 1}. Best is trial#53 with value: 4.2377429987902954e-08.\n"
     ]
    },
    {
     "name": "stdout",
     "output_type": "stream",
     "text": [
      "#83: units=[70, 2]: samples=43/51, mean=2.5462e-07, std=3.2457e-07\n",
      "\n"
     ]
    },
    {
     "name": "stderr",
     "output_type": "stream",
     "text": [
      "[I 2020-07-21 19:38:43,318] Finished trial#83 with value: 2.5462427304596745e-07 with parameters: {'num_unit1': 70, 'num_unit2': 2}. Best is trial#53 with value: 4.2377429987902954e-08.\n"
     ]
    },
    {
     "name": "stdout",
     "output_type": "stream",
     "text": [
      "#84: units=[75, 1]: samples=45/51, mean=1.3325e-07, std=1.6216e-07\n",
      "\n"
     ]
    },
    {
     "name": "stderr",
     "output_type": "stream",
     "text": [
      "[I 2020-07-21 19:41:53,633] Finished trial#84 with value: 1.3324565729296485e-07 with parameters: {'num_unit1': 75, 'num_unit2': 1}. Best is trial#53 with value: 4.2377429987902954e-08.\n"
     ]
    },
    {
     "name": "stdout",
     "output_type": "stream",
     "text": [
      "#85: units=[84, 1]: samples=46/51, mean=1.2440e-07, std=1.5285e-07\n",
      "\n"
     ]
    },
    {
     "name": "stderr",
     "output_type": "stream",
     "text": [
      "[I 2020-07-21 19:45:00,661] Finished trial#85 with value: 1.24400475775627e-07 with parameters: {'num_unit1': 84, 'num_unit2': 1}. Best is trial#53 with value: 4.2377429987902954e-08.\n"
     ]
    },
    {
     "name": "stdout",
     "output_type": "stream",
     "text": [
      "#86: units=[78, 1]: samples=44/51, mean=1.0976e-07, std=1.6148e-07\n",
      "\n"
     ]
    },
    {
     "name": "stderr",
     "output_type": "stream",
     "text": [
      "[I 2020-07-21 19:48:04,068] Finished trial#86 with value: 1.0975894822311134e-07 with parameters: {'num_unit1': 78, 'num_unit2': 1}. Best is trial#53 with value: 4.2377429987902954e-08.\n"
     ]
    },
    {
     "name": "stdout",
     "output_type": "stream",
     "text": [
      "#87: units=[82, 1]: samples=44/51, mean=8.6244e-08, std=8.2138e-08\n",
      "\n"
     ]
    },
    {
     "name": "stderr",
     "output_type": "stream",
     "text": [
      "[I 2020-07-21 19:51:10,492] Finished trial#87 with value: 8.624436268680279e-08 with parameters: {'num_unit1': 82, 'num_unit2': 1}. Best is trial#53 with value: 4.2377429987902954e-08.\n"
     ]
    },
    {
     "name": "stdout",
     "output_type": "stream",
     "text": [
      "#88: units=[88, 1]: samples=43/51, mean=1.4124e-07, std=1.4850e-07\n",
      "\n"
     ]
    },
    {
     "name": "stderr",
     "output_type": "stream",
     "text": [
      "[I 2020-07-21 19:54:15,075] Finished trial#88 with value: 1.4123886810489636e-07 with parameters: {'num_unit1': 88, 'num_unit2': 1}. Best is trial#53 with value: 4.2377429987902954e-08.\n"
     ]
    },
    {
     "name": "stdout",
     "output_type": "stream",
     "text": [
      "#89: units=[98, 1]: samples=41/51, mean=1.4271e-07, std=2.7510e-07\n",
      "\n"
     ]
    },
    {
     "name": "stderr",
     "output_type": "stream",
     "text": [
      "[I 2020-07-21 19:57:32,079] Finished trial#89 with value: 1.4271092189830953e-07 with parameters: {'num_unit1': 98, 'num_unit2': 1}. Best is trial#53 with value: 4.2377429987902954e-08.\n"
     ]
    },
    {
     "name": "stdout",
     "output_type": "stream",
     "text": [
      "#90: units=[92, 1]: samples=41/51, mean=5.9675e-08, std=7.0126e-08\n",
      "\n"
     ]
    },
    {
     "name": "stderr",
     "output_type": "stream",
     "text": [
      "[I 2020-07-21 20:00:41,486] Finished trial#90 with value: 5.967462804660125e-08 with parameters: {'num_unit1': 92, 'num_unit2': 1}. Best is trial#53 with value: 4.2377429987902954e-08.\n"
     ]
    },
    {
     "name": "stdout",
     "output_type": "stream",
     "text": [
      "#91: units=[93, 1]: samples=43/51, mean=1.6799e-07, std=2.5477e-07\n",
      "\n"
     ]
    },
    {
     "name": "stderr",
     "output_type": "stream",
     "text": [
      "[I 2020-07-21 20:03:56,957] Finished trial#91 with value: 1.6798721920484672e-07 with parameters: {'num_unit1': 93, 'num_unit2': 1}. Best is trial#53 with value: 4.2377429987902954e-08.\n"
     ]
    },
    {
     "name": "stdout",
     "output_type": "stream",
     "text": [
      "#92: units=[93, 1]: samples=43/51, mean=8.4548e-08, std=8.1526e-08\n",
      "\n"
     ]
    },
    {
     "name": "stderr",
     "output_type": "stream",
     "text": [
      "[I 2020-07-21 20:07:12,480] Finished trial#92 with value: 8.454801108321914e-08 with parameters: {'num_unit1': 93, 'num_unit2': 1}. Best is trial#53 with value: 4.2377429987902954e-08.\n"
     ]
    },
    {
     "name": "stdout",
     "output_type": "stream",
     "text": [
      "#93: units=[83, 1]: samples=44/51, mean=9.1056e-08, std=9.6149e-08\n",
      "\n"
     ]
    },
    {
     "name": "stderr",
     "output_type": "stream",
     "text": [
      "[I 2020-07-21 20:10:24,353] Finished trial#93 with value: 9.105587410336695e-08 with parameters: {'num_unit1': 83, 'num_unit2': 1}. Best is trial#53 with value: 4.2377429987902954e-08.\n"
     ]
    },
    {
     "name": "stdout",
     "output_type": "stream",
     "text": [
      "#94: units=[88, 1]: samples=43/51, mean=1.6925e-07, std=2.3859e-07\n",
      "\n"
     ]
    },
    {
     "name": "stderr",
     "output_type": "stream",
     "text": [
      "[I 2020-07-21 20:13:27,037] Finished trial#94 with value: 1.6924772407845252e-07 with parameters: {'num_unit1': 88, 'num_unit2': 1}. Best is trial#53 with value: 4.2377429987902954e-08.\n"
     ]
    },
    {
     "name": "stdout",
     "output_type": "stream",
     "text": [
      "#95: units=[96, 1]: samples=42/51, mean=6.9211e-08, std=7.2772e-08\n",
      "\n"
     ]
    },
    {
     "name": "stderr",
     "output_type": "stream",
     "text": [
      "[I 2020-07-21 20:16:32,486] Finished trial#95 with value: 6.921139904578343e-08 with parameters: {'num_unit1': 96, 'num_unit2': 1}. Best is trial#53 with value: 4.2377429987902954e-08.\n"
     ]
    },
    {
     "name": "stdout",
     "output_type": "stream",
     "text": [
      "#96: units=[96, 1]: samples=43/51, mean=1.5538e-07, std=1.9982e-07\n",
      "\n"
     ]
    },
    {
     "name": "stderr",
     "output_type": "stream",
     "text": [
      "[I 2020-07-21 20:19:38,625] Finished trial#96 with value: 1.5538213526180928e-07 with parameters: {'num_unit1': 96, 'num_unit2': 1}. Best is trial#53 with value: 4.2377429987902954e-08.\n"
     ]
    },
    {
     "name": "stdout",
     "output_type": "stream",
     "text": [
      "#97: units=[91, 1]: samples=45/51, mean=1.6670e-07, std=2.4847e-07\n",
      "\n"
     ]
    },
    {
     "name": "stderr",
     "output_type": "stream",
     "text": [
      "[I 2020-07-21 20:22:55,431] Finished trial#97 with value: 1.6670157369070973e-07 with parameters: {'num_unit1': 91, 'num_unit2': 1}. Best is trial#53 with value: 4.2377429987902954e-08.\n"
     ]
    },
    {
     "name": "stdout",
     "output_type": "stream",
     "text": [
      "#98: units=[100, 1]: samples=44/51, mean=6.5994e-08, std=5.8447e-08\n",
      "\n"
     ]
    },
    {
     "name": "stderr",
     "output_type": "stream",
     "text": [
      "[I 2020-07-21 20:26:13,761] Finished trial#98 with value: 6.599390583500958e-08 with parameters: {'num_unit1': 100, 'num_unit2': 1}. Best is trial#53 with value: 4.2377429987902954e-08.\n"
     ]
    },
    {
     "name": "stdout",
     "output_type": "stream",
     "text": [
      "#99: units=[99, 1]: samples=42/51, mean=6.4891e-08, std=6.3290e-08\n",
      "\n"
     ]
    },
    {
     "name": "stderr",
     "output_type": "stream",
     "text": [
      "[I 2020-07-21 20:29:49,200] Finished trial#99 with value: 6.489119693967435e-08 with parameters: {'num_unit1': 99, 'num_unit2': 1}. Best is trial#53 with value: 4.2377429987902954e-08.\n"
     ]
    },
    {
     "name": "stdout",
     "output_type": "stream",
     "text": [
      "\n",
      "\n",
      "*** All Trial are finished!! ***\n"
     ]
    }
   ],
   "source": [
    "study.optimize(objective, n_trials=100)\n",
    "\n",
    "print(\"\\n\")\n",
    "print(\"*** All Trial are finished!! ***\")"
   ]
  },
  {
   "cell_type": "code",
   "execution_count": null,
   "metadata": {},
   "outputs": [],
   "source": []
  }
 ],
 "metadata": {
  "kernelspec": {
   "display_name": "Python 3",
   "language": "python",
   "name": "python3"
  },
  "language_info": {
   "codemirror_mode": {
    "name": "ipython",
    "version": 3
   },
   "file_extension": ".py",
   "mimetype": "text/x-python",
   "name": "python",
   "nbconvert_exporter": "python",
   "pygments_lexer": "ipython3",
   "version": "3.7.7"
  }
 },
 "nbformat": 4,
 "nbformat_minor": 4
}
