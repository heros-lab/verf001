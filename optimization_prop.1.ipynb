{
 "cells": [
  {
   "cell_type": "code",
   "execution_count": 1,
   "metadata": {},
   "outputs": [],
   "source": [
    "import optuna\n",
    "import numpy as np\n",
    "import pandas as pd\n",
    "import matplotlib.pyplot as plt\n",
    "import toolkit.filter\n",
    "\n",
    "import tensorflow as tf\n",
    "from tensorflow.keras.backend import clear_session\n",
    "from tensorflow.keras.models import Sequential\n",
    "from tensorflow.keras.layers import Dense\n",
    "from tensorflow.keras.optimizers import Adam\n",
    "\n",
    "from optuna.integration import KerasPruningCallback\n"
   ]
  },
  {
   "cell_type": "code",
   "execution_count": 2,
   "metadata": {},
   "outputs": [
    {
     "name": "stdout",
     "output_type": "stream",
     "text": [
      "Not enough GPU hardware devices available\n"
     ]
    }
   ],
   "source": [
    "physical_devices = tf.config.experimental.list_physical_devices('GPU')\n",
    "if len(physical_devices) > 0:\n",
    "    for k in range(len(physical_devices)):\n",
    "        tf.config.experimental.set_memory_growth(physical_devices[k], True)\n",
    "        print('memory growth:', tf.config.experimental.get_memory_growth(physical_devices[k]))\n",
    "else:\n",
    "    print(\"Not enough GPU hardware devices available\")"
   ]
  },
  {
   "cell_type": "code",
   "execution_count": 3,
   "metadata": {},
   "outputs": [],
   "source": [
    "class DatasetClass:\n",
    "    def __init__(self, data_path):\n",
    "        self.path = data_path\n",
    "    \n",
    "    def __reflect_index(self, data, index):\n",
    "        if index != None:\n",
    "            data = data[:, index]\n",
    "        return data\n",
    "        \n",
    "    def __load_df(self, data_label):\n",
    "        data_x = pd.read_csv(f\"{self.path}/{data_label}_nx.csv\", index_col=0)\n",
    "        data_y = pd.read_csv(f\"{self.path}/{data_label}_ny.csv\", index_col=0)\n",
    "        return data_x, data_y\n",
    "    \n",
    "    def __load_data(self, data_label, x_index, y_index):\n",
    "        data_x, data_y = self.__load_df(data_label)\n",
    "        data_x = self.__reflect_index(data_x.values, x_index)\n",
    "        data_y = self.__reflect_index(data_y.values, y_index)\n",
    "        return data_x, data_y\n",
    "    \n",
    "    def __load_stack(self, dataset_list, x_index, y_index):\n",
    "        for label in dataset_list:\n",
    "            tmp_x, tmp_y = self.__load_data(label, x_index, y_index)\n",
    "            if dataset_list.index(label) == 0:\n",
    "                data_x = tmp_x\n",
    "                data_y = tmp_y\n",
    "            else:\n",
    "                data_x = np.vstack((data_x, tmp_x))\n",
    "                data_y = np.vstack((data_y, tmp_y))\n",
    "        return data_x, data_y\n",
    "    \n",
    "    def __load_dict(self, dataset_list, x_index, y_index):\n",
    "        data_x, data_y = {}, {}\n",
    "        for label in dataset_list:\n",
    "            tmp_x, tmp_y = self.__load_data(label, x_index, y_index)\n",
    "            data_x[label] = tmp_x\n",
    "            data_y[label] = tmp_y\n",
    "        return data_x, data_y\n",
    "    \n",
    "    def get_data(self, dataset_label, x_index=None, y_index=None, dict_type:bool=False):\n",
    "        if not dict_type:\n",
    "            if type(dataset_label) == str:\n",
    "                data_x, data_y = self.__load_data(dataset_label, x_index, y_index)\n",
    "            else:\n",
    "                data_x, data_y = self.__load_stack(dataset_label, x_index, y_index)\n",
    "        else:\n",
    "            data_x, data_y = self.__load_dict(dataset_label, x_index, y_index)\n",
    "        return data_x, data_y\n",
    "    \n",
    "    def get_dataframe(self, dataset_list):\n",
    "        data_x = {}\n",
    "        data_y = {}\n",
    "        for label in dataset_list:\n",
    "            tmp_x, tmp_y = self.__load_df(label)\n",
    "            data_x[label] = tmp_x\n",
    "            data_y[label] = tmp_y\n",
    "        return data_x, data_y\n",
    "\n",
    "\n",
    "def set_index(model_type):\n",
    "    if \"conv.\" in model_type:\n",
    "        x_index = [i for i in range(7)]\n",
    "    elif model_type == \"prop.1\":\n",
    "        x_index = [0,3,4,6]\n",
    "    elif model_type == \"prop.2\":\n",
    "        x_index = [1,2,5,6]\n",
    "    elif model_type == \"prop.3\":\n",
    "        x_index = [1,2,5,6]\n",
    "    elif model_type == \"prop.4\":\n",
    "        x_index = [0,3,4,5,6]\n",
    "    else:\n",
    "        print(f\"<< {model_type} >> This model is not exist.\")\n",
    "    y_index = [int(model_type[-1])-1]\n",
    "    return x_index, y_index\n",
    "\n",
    "\n",
    "def set_dataset_label(model_type):\n",
    "    type_id = int(model_type[-1])\n",
    "    if type_id == 1:\n",
    "        learn = \"ms1a\"\n",
    "        test = \"ms2a\"\n",
    "    elif type_id == 2:\n",
    "        learn = \"ms3a\"\n",
    "        test = \"ms1a\"\n",
    "    elif type_id == 3:\n",
    "        learn = \"ms2a\"\n",
    "        test = \"ms3a\"\n",
    "    elif type_id == 4:\n",
    "        learn = \"ms3a\"\n",
    "        test = \"ms1a\"\n",
    "    return learn, test\n"
   ]
  },
  {
   "cell_type": "code",
   "execution_count": 4,
   "metadata": {},
   "outputs": [
    {
     "name": "stdout",
     "output_type": "stream",
     "text": [
      "x_index: [0, 3, 4, 6], y_index: [0]\n",
      "learn list: ms1a, test_list: ms2a\n"
     ]
    }
   ],
   "source": [
    "model_tag = \"prop.1\"\n",
    "data_path = f\"./dataset/norms\"\n",
    "\n",
    "x_index, y_index = set_index(model_tag)\n",
    "learn_list, test_list  = set_dataset_label(model_tag)\n",
    "\n",
    "dataset = DatasetClass(data_path)\n",
    "learn_x, learn_y = dataset.get_data(learn_list, x_index, y_index)\n",
    "test_x, test_y = dataset.get_data(test_list, x_index, y_index)\n",
    "\n",
    "print(f\"x_index: {x_index}, y_index: [{y_index[0]}]\")\n",
    "print(f\"learn list: {learn_list}, test_list: {test_list}\")\n"
   ]
  },
  {
   "cell_type": "code",
   "execution_count": 8,
   "metadata": {},
   "outputs": [
    {
     "name": "stderr",
     "output_type": "stream",
     "text": [
      "[I 2020-07-21 14:22:40,184] A new study created with name: prop.1_ver2.0\n"
     ]
    }
   ],
   "source": [
    "study_label = \"ver2.0\"\n",
    "STUDY_LOADING = False\n",
    "\n",
    "storage_path = f\"sqlite:///optimize_{model_tag}.db\"\n",
    "study_name = model_tag + \"_\" + study_label\n",
    "\n",
    "# study load or create\n",
    "if STUDY_LOADING:\n",
    "    study = optuna.load_study(study_name, storage_path, pruner=optuna.pruners.MedianPruner())\n",
    "else:\n",
    "    study = optuna.create_study(study_name=study_name, storage=storage_path, direction=\"minimize\", pruner=optuna.pruners.MedianPruner())\n"
   ]
  },
  {
   "cell_type": "code",
   "execution_count": 12,
   "metadata": {},
   "outputs": [],
   "source": [
    "batch_size = 512\n",
    "element = 169\n",
    "\n",
    "epochs = 200\n",
    "samples = 51\n",
    "input_unit = learn_x.shape[1]\n",
    "testdata_size = test_x.shape[0]\n",
    "\n",
    "filter = toolkit.filter.Filter_with_IQR()\n",
    "\n",
    "def objective(trial):\n",
    "    max_unit1 = 33\n",
    "    max_unit2 = 100\n",
    "    \n",
    "    num_unit1 = trial.suggest_int(f\"num_unit1\", 1, max_unit1)\n",
    "    buf_unit2 = int((element - input_unit * num_unit1)/(num_unit1 + 1))\n",
    "    if max_unit2 >= buf_unit2:\n",
    "        max_unit2 = buf_unit2\n",
    "    num_unit2 = trial.suggest_int(f\"num_unit2\", 1, max_unit2)\n",
    "    \n",
    "    score_list = [np.nan for i in range(samples)]\n",
    "    for i in range(samples):\n",
    "        clear_session()\n",
    "        model = Sequential([\n",
    "            Dense(input_dim=input_unit, units=num_unit1, activation=\"tanh\", kernel_initializer=\"glorot_uniform\"),\n",
    "            Dense(input_dim=num_unit1, units=num_unit2, activation=\"tanh\", kernel_initializer=\"glorot_uniform\"),\n",
    "            Dense(input_dim=num_unit2, units=1, kernel_initializer=\"glorot_uniform\")\n",
    "        ])\n",
    "        model.compile(loss=\"mse\", optimizer=Adam())\n",
    "        model.fit(learn_x, learn_y, batch_size=batch_size, epochs=epochs, verbose=0)\n",
    "        score = model.evaluate(test_x, test_y, batch_size=testdata_size, verbose=0)\n",
    "        score_list[i] = score\n",
    "        print(f\"\\r#{trial.number:2}: units={[num_unit1, num_unit2]}, sample {i}/{samples}, score:{score:.4e}\", end=\"\")\n",
    "        \n",
    "    df_score = filter.filtering(score_list)\n",
    "    count, mean, std = df_score.describe().loc[[\"count\",\"mean\",\"std\"]]\n",
    "    print(f\"\\r#{trial.number:2}: units={[num_unit1, num_unit2]}: samples={int(count)}/{samples}, mean={mean:.4e}, std={std:.4e}\\n\")\n",
    "    return mean"
   ]
  },
  {
   "cell_type": "code",
   "execution_count": 13,
   "metadata": {
    "scrolled": false
   },
   "outputs": [
    {
     "name": "stdout",
     "output_type": "stream",
     "text": [
      "# 1: units=[1, 19]: samples=51/51, mean=8.6210e-05, std=1.2539e-04\n",
      "\n"
     ]
    },
    {
     "name": "stderr",
     "output_type": "stream",
     "text": [
      "[I 2020-07-21 14:29:21,682] Finished trial#1 with value: 8.62100605191882e-05 with parameters: {'num_unit1': 1, 'num_unit2': 19}. Best is trial#1 with value: 8.62100605191882e-05.\n"
     ]
    },
    {
     "name": "stdout",
     "output_type": "stream",
     "text": [
      "# 2: units=[14, 2]: samples=49/51, mean=1.6171e-06, std=1.0037e-06\n",
      "\n"
     ]
    },
    {
     "name": "stderr",
     "output_type": "stream",
     "text": [
      "[I 2020-07-21 14:32:44,434] Finished trial#2 with value: 1.6171036932922904e-06 with parameters: {'num_unit1': 14, 'num_unit2': 2}. Best is trial#2 with value: 1.6171036932922904e-06.\n"
     ]
    },
    {
     "name": "stdout",
     "output_type": "stream",
     "text": [
      "# 3: units=[21, 2]: samples=50/51, mean=1.6375e-06, std=1.1691e-06\n",
      "\n"
     ]
    },
    {
     "name": "stderr",
     "output_type": "stream",
     "text": [
      "[I 2020-07-21 14:36:25,296] Finished trial#3 with value: 1.6375408344515563e-06 with parameters: {'num_unit1': 21, 'num_unit2': 2}. Best is trial#2 with value: 1.6171036932922904e-06.\n"
     ]
    },
    {
     "name": "stdout",
     "output_type": "stream",
     "text": [
      "# 4: units=[21, 2]: samples=47/51, mean=1.3330e-06, std=9.8435e-07\n",
      "\n"
     ]
    },
    {
     "name": "stderr",
     "output_type": "stream",
     "text": [
      "[I 2020-07-21 14:40:01,943] Finished trial#4 with value: 1.3329551582602745e-06 with parameters: {'num_unit1': 21, 'num_unit2': 2}. Best is trial#4 with value: 1.3329551582602745e-06.\n"
     ]
    },
    {
     "name": "stdout",
     "output_type": "stream",
     "text": [
      "# 5: units=[26, 2]: samples=50/51, mean=1.3060e-06, std=8.7909e-07\n",
      "\n"
     ]
    },
    {
     "name": "stderr",
     "output_type": "stream",
     "text": [
      "[I 2020-07-21 14:43:29,081] Finished trial#5 with value: 1.3059773063162083e-06 with parameters: {'num_unit1': 26, 'num_unit2': 2}. Best is trial#5 with value: 1.3059773063162083e-06.\n"
     ]
    },
    {
     "name": "stdout",
     "output_type": "stream",
     "text": [
      "# 6: units=[15, 2]: samples=49/51, mean=1.6766e-06, std=1.2359e-06\n",
      "\n"
     ]
    },
    {
     "name": "stderr",
     "output_type": "stream",
     "text": [
      "[I 2020-07-21 14:46:50,635] Finished trial#6 with value: 1.6765861527038136e-06 with parameters: {'num_unit1': 15, 'num_unit2': 2}. Best is trial#5 with value: 1.3059773063162083e-06.\n"
     ]
    },
    {
     "name": "stdout",
     "output_type": "stream",
     "text": [
      "# 7: units=[29, 1]: samples=47/51, mean=1.6901e-06, std=1.1993e-06\n",
      "\n"
     ]
    },
    {
     "name": "stderr",
     "output_type": "stream",
     "text": [
      "[I 2020-07-21 14:50:24,698] Finished trial#7 with value: 1.6900667510961943e-06 with parameters: {'num_unit1': 29, 'num_unit2': 1}. Best is trial#5 with value: 1.3059773063162083e-06.\n"
     ]
    },
    {
     "name": "stdout",
     "output_type": "stream",
     "text": [
      "# 8: units=[32, 1]: samples=46/51, mean=1.3976e-06, std=9.9133e-07\n",
      "\n"
     ]
    },
    {
     "name": "stderr",
     "output_type": "stream",
     "text": [
      "[I 2020-07-21 14:53:39,300] Finished trial#8 with value: 1.3975618217095278e-06 with parameters: {'num_unit1': 32, 'num_unit2': 1}. Best is trial#5 with value: 1.3059773063162083e-06.\n"
     ]
    },
    {
     "name": "stdout",
     "output_type": "stream",
     "text": [
      "# 9: units=[26, 1]: samples=47/51, mean=1.6590e-06, std=9.8632e-07\n",
      "\n"
     ]
    },
    {
     "name": "stderr",
     "output_type": "stream",
     "text": [
      "[I 2020-07-21 14:56:51,799] Finished trial#9 with value: 1.6589797638139414e-06 with parameters: {'num_unit1': 26, 'num_unit2': 1}. Best is trial#5 with value: 1.3059773063162083e-06.\n"
     ]
    },
    {
     "name": "stdout",
     "output_type": "stream",
     "text": [
      "#10: units=[13, 2]: samples=45/51, mean=1.6344e-06, std=8.5945e-07\n",
      "\n"
     ]
    },
    {
     "name": "stderr",
     "output_type": "stream",
     "text": [
      "[I 2020-07-21 15:00:12,044] Finished trial#10 with value: 1.6343902321599066e-06 with parameters: {'num_unit1': 13, 'num_unit2': 2}. Best is trial#5 with value: 1.3059773063162083e-06.\n"
     ]
    },
    {
     "name": "stdout",
     "output_type": "stream",
     "text": [
      "#11: units=[6, 8]: samples=51/51, mean=1.8736e-06, std=1.2860e-06\n",
      "\n"
     ]
    },
    {
     "name": "stderr",
     "output_type": "stream",
     "text": [
      "[I 2020-07-21 15:03:23,946] Finished trial#11 with value: 1.8736044049038515e-06 with parameters: {'num_unit1': 6, 'num_unit2': 8}. Best is trial#5 with value: 1.3059773063162083e-06.\n"
     ]
    },
    {
     "name": "stdout",
     "output_type": "stream",
     "text": [
      "#12: units=[23, 3]: samples=44/51, mean=1.0441e-06, std=7.5845e-07\n",
      "\n"
     ]
    },
    {
     "name": "stderr",
     "output_type": "stream",
     "text": [
      "[I 2020-07-21 15:06:50,541] Finished trial#12 with value: 1.044083244750027e-06 with parameters: {'num_unit1': 23, 'num_unit2': 3}. Best is trial#12 with value: 1.044083244750027e-06.\n"
     ]
    },
    {
     "name": "stdout",
     "output_type": "stream",
     "text": [
      "#13: units=[25, 2]: samples=49/51, mean=1.0293e-06, std=6.9806e-07\n",
      "\n"
     ]
    },
    {
     "name": "stderr",
     "output_type": "stream",
     "text": [
      "[I 2020-07-21 15:10:23,643] Finished trial#13 with value: 1.0292702991044243e-06 with parameters: {'num_unit1': 25, 'num_unit2': 2}. Best is trial#13 with value: 1.0292702991044243e-06.\n"
     ]
    },
    {
     "name": "stdout",
     "output_type": "stream",
     "text": [
      "#14: units=[21, 3]: samples=47/51, mean=1.0640e-06, std=7.2747e-07\n",
      "\n"
     ]
    },
    {
     "name": "stderr",
     "output_type": "stream",
     "text": [
      "[I 2020-07-21 15:14:00,807] Finished trial#14 with value: 1.063964543210988e-06 with parameters: {'num_unit1': 21, 'num_unit2': 3}. Best is trial#13 with value: 1.0292702991044243e-06.\n"
     ]
    },
    {
     "name": "stdout",
     "output_type": "stream",
     "text": [
      "#15: units=[32, 1]: samples=45/51, mean=1.3631e-06, std=8.2571e-07\n",
      "\n"
     ]
    },
    {
     "name": "stderr",
     "output_type": "stream",
     "text": [
      "[I 2020-07-21 15:17:25,421] Finished trial#15 with value: 1.363084654965658e-06 with parameters: {'num_unit1': 32, 'num_unit2': 1}. Best is trial#13 with value: 1.0292702991044243e-06.\n"
     ]
    },
    {
     "name": "stdout",
     "output_type": "stream",
     "text": [
      "#16: units=[26, 2]: samples=49/51, mean=1.3766e-06, std=9.9807e-07\n",
      "\n"
     ]
    },
    {
     "name": "stderr",
     "output_type": "stream",
     "text": [
      "[I 2020-07-21 15:20:54,718] Finished trial#16 with value: 1.3765748066339082e-06 with parameters: {'num_unit1': 26, 'num_unit2': 2}. Best is trial#13 with value: 1.0292702991044243e-06.\n"
     ]
    },
    {
     "name": "stdout",
     "output_type": "stream",
     "text": [
      "#17: units=[18, 4]: samples=47/51, mean=1.2695e-06, std=6.8016e-07\n",
      "\n"
     ]
    },
    {
     "name": "stderr",
     "output_type": "stream",
     "text": [
      "[I 2020-07-21 15:24:12,321] Finished trial#17 with value: 1.2695322494253444e-06 with parameters: {'num_unit1': 18, 'num_unit2': 4}. Best is trial#13 with value: 1.0292702991044243e-06.\n"
     ]
    },
    {
     "name": "stdout",
     "output_type": "stream",
     "text": [
      "#18: units=[24, 2]: samples=50/51, mean=1.3259e-06, std=8.6829e-07\n",
      "\n"
     ]
    },
    {
     "name": "stderr",
     "output_type": "stream",
     "text": [
      "[I 2020-07-21 15:27:27,342] Finished trial#18 with value: 1.3259452475722356e-06 with parameters: {'num_unit1': 24, 'num_unit2': 2}. Best is trial#13 with value: 1.0292702991044243e-06.\n"
     ]
    },
    {
     "name": "stdout",
     "output_type": "stream",
     "text": [
      "#19: units=[8, 6]: samples=49/51, mean=2.1236e-06, std=1.3442e-06\n",
      "\n"
     ]
    },
    {
     "name": "stderr",
     "output_type": "stream",
     "text": [
      "[I 2020-07-21 15:30:34,803] Finished trial#19 with value: 2.123559453343196e-06 with parameters: {'num_unit1': 8, 'num_unit2': 6}. Best is trial#13 with value: 1.0292702991044243e-06.\n"
     ]
    },
    {
     "name": "stdout",
     "output_type": "stream",
     "text": [
      "#20: units=[29, 1]: samples=42/51, mean=1.0955e-06, std=5.5334e-07\n",
      "\n"
     ]
    },
    {
     "name": "stderr",
     "output_type": "stream",
     "text": [
      "[I 2020-07-21 15:34:14,228] Finished trial#20 with value: 1.0955211689769213e-06 with parameters: {'num_unit1': 29, 'num_unit2': 1}. Best is trial#13 with value: 1.0292702991044243e-06.\n"
     ]
    },
    {
     "name": "stdout",
     "output_type": "stream",
     "text": [
      "#21: units=[18, 4]: samples=47/51, mean=1.2456e-06, std=1.0310e-06\n",
      "\n"
     ]
    },
    {
     "name": "stderr",
     "output_type": "stream",
     "text": [
      "[I 2020-07-21 15:37:43,674] Finished trial#21 with value: 1.2456079710371805e-06 with parameters: {'num_unit1': 18, 'num_unit2': 4}. Best is trial#13 with value: 1.0292702991044243e-06.\n"
     ]
    },
    {
     "name": "stdout",
     "output_type": "stream",
     "text": [
      "#22: units=[21, 3]: samples=47/51, mean=1.2917e-06, std=7.6524e-07\n",
      "\n"
     ]
    },
    {
     "name": "stderr",
     "output_type": "stream",
     "text": [
      "[I 2020-07-21 15:41:27,371] Finished trial#22 with value: 1.2916978211580228e-06 with parameters: {'num_unit1': 21, 'num_unit2': 3}. Best is trial#13 with value: 1.0292702991044243e-06.\n"
     ]
    },
    {
     "name": "stdout",
     "output_type": "stream",
     "text": [
      "#23: units=[22, 3]: samples=48/51, mean=1.0926e-06, std=6.7113e-07\n",
      "\n"
     ]
    },
    {
     "name": "stderr",
     "output_type": "stream",
     "text": [
      "[I 2020-07-21 15:45:02,228] Finished trial#23 with value: 1.0926461707268704e-06 with parameters: {'num_unit1': 22, 'num_unit2': 3}. Best is trial#13 with value: 1.0292702991044243e-06.\n"
     ]
    },
    {
     "name": "stdout",
     "output_type": "stream",
     "text": [
      "#24: units=[28, 1]: samples=41/51, mean=1.4038e-06, std=8.0927e-07\n",
      "\n"
     ]
    },
    {
     "name": "stderr",
     "output_type": "stream",
     "text": [
      "[I 2020-07-21 15:48:15,471] Finished trial#24 with value: 1.4038457186970624e-06 with parameters: {'num_unit1': 28, 'num_unit2': 1}. Best is trial#13 with value: 1.0292702991044243e-06.\n"
     ]
    },
    {
     "name": "stdout",
     "output_type": "stream",
     "text": [
      "#25: units=[24, 2]: samples=51/51, mean=1.4746e-06, std=1.0318e-06\n",
      "\n"
     ]
    },
    {
     "name": "stderr",
     "output_type": "stream",
     "text": [
      "[I 2020-07-21 15:51:38,508] Finished trial#25 with value: 1.4746121199410107e-06 with parameters: {'num_unit1': 24, 'num_unit2': 2}. Best is trial#13 with value: 1.0292702991044243e-06.\n"
     ]
    },
    {
     "name": "stdout",
     "output_type": "stream",
     "text": [
      "#26: units=[18, 4]: samples=48/51, mean=1.2402e-06, std=9.3598e-07\n",
      "\n"
     ]
    },
    {
     "name": "stderr",
     "output_type": "stream",
     "text": [
      "[I 2020-07-21 15:54:59,562] Finished trial#26 with value: 1.2402030514409763e-06 with parameters: {'num_unit1': 18, 'num_unit2': 4}. Best is trial#13 with value: 1.0292702991044243e-06.\n"
     ]
    },
    {
     "name": "stdout",
     "output_type": "stream",
     "text": [
      "#27: units=[11, 6]: samples=48/51, mean=1.4115e-06, std=9.6086e-07\n",
      "\n"
     ]
    },
    {
     "name": "stderr",
     "output_type": "stream",
     "text": [
      "[I 2020-07-21 15:58:17,479] Finished trial#27 with value: 1.4115432043955896e-06 with parameters: {'num_unit1': 11, 'num_unit2': 6}. Best is trial#13 with value: 1.0292702991044243e-06.\n"
     ]
    },
    {
     "name": "stdout",
     "output_type": "stream",
     "text": [
      "#28: units=[23, 3]: samples=50/51, mean=1.4125e-06, std=1.1662e-06\n",
      "\n"
     ]
    },
    {
     "name": "stderr",
     "output_type": "stream",
     "text": [
      "[I 2020-07-21 16:02:07,525] Finished trial#28 with value: 1.4125465106218371e-06 with parameters: {'num_unit1': 23, 'num_unit2': 3}. Best is trial#13 with value: 1.0292702991044243e-06.\n"
     ]
    },
    {
     "name": "stdout",
     "output_type": "stream",
     "text": [
      "#29: units=[19, 3]: samples=50/51, mean=1.3665e-06, std=9.4882e-07\n",
      "\n"
     ]
    },
    {
     "name": "stderr",
     "output_type": "stream",
     "text": [
      "[I 2020-07-21 16:06:02,976] Finished trial#29 with value: 1.3665092862424898e-06 with parameters: {'num_unit1': 19, 'num_unit2': 3}. Best is trial#13 with value: 1.0292702991044243e-06.\n"
     ]
    },
    {
     "name": "stdout",
     "output_type": "stream",
     "text": [
      "#30: units=[16, 3]: samples=49/51, mean=1.1793e-06, std=8.1115e-07\n",
      "\n"
     ]
    },
    {
     "name": "stderr",
     "output_type": "stream",
     "text": [
      "[I 2020-07-21 16:09:45,316] Finished trial#30 with value: 1.1792791425466243e-06 with parameters: {'num_unit1': 16, 'num_unit2': 3}. Best is trial#13 with value: 1.0292702991044243e-06.\n"
     ]
    },
    {
     "name": "stdout",
     "output_type": "stream",
     "text": [
      "#31: units=[33, 1]: samples=46/51, mean=1.2556e-06, std=8.2827e-07\n",
      "\n"
     ]
    },
    {
     "name": "stderr",
     "output_type": "stream",
     "text": [
      "[I 2020-07-21 16:13:48,077] Finished trial#31 with value: 1.2556395658876958e-06 with parameters: {'num_unit1': 33, 'num_unit2': 1}. Best is trial#13 with value: 1.0292702991044243e-06.\n"
     ]
    },
    {
     "name": "stdout",
     "output_type": "stream",
     "text": [
      "#32: units=[22, 3]: samples=46/51, mean=1.1439e-06, std=7.6303e-07\n",
      "\n"
     ]
    },
    {
     "name": "stderr",
     "output_type": "stream",
     "text": [
      "[I 2020-07-21 16:17:33,311] Finished trial#32 with value: 1.1438800940271923e-06 with parameters: {'num_unit1': 22, 'num_unit2': 3}. Best is trial#13 with value: 1.0292702991044243e-06.\n"
     ]
    },
    {
     "name": "stdout",
     "output_type": "stream",
     "text": [
      "#33: units=[20, 3]: samples=51/51, mean=1.4900e-06, std=1.1597e-06\n",
      "\n"
     ]
    },
    {
     "name": "stderr",
     "output_type": "stream",
     "text": [
      "[I 2020-07-21 16:21:34,926] Finished trial#33 with value: 1.4899723384150645e-06 with parameters: {'num_unit1': 20, 'num_unit2': 3}. Best is trial#13 with value: 1.0292702991044243e-06.\n"
     ]
    },
    {
     "name": "stdout",
     "output_type": "stream",
     "text": [
      "#34: units=[24, 2]: samples=46/51, mean=1.2255e-06, std=7.6184e-07\n",
      "\n"
     ]
    },
    {
     "name": "stderr",
     "output_type": "stream",
     "text": [
      "[I 2020-07-21 16:26:34,439] Finished trial#34 with value: 1.2255138358032425e-06 with parameters: {'num_unit1': 24, 'num_unit2': 2}. Best is trial#13 with value: 1.0292702991044243e-06.\n"
     ]
    },
    {
     "name": "stdout",
     "output_type": "stream",
     "text": [
      "#35: units=[27, 2]: samples=49/51, mean=1.0723e-06, std=7.5710e-07\n",
      "\n"
     ]
    },
    {
     "name": "stderr",
     "output_type": "stream",
     "text": [
      "[I 2020-07-21 16:31:43,837] Finished trial#35 with value: 1.072314795760808e-06 with parameters: {'num_unit1': 27, 'num_unit2': 2}. Best is trial#13 with value: 1.0292702991044243e-06.\n"
     ]
    },
    {
     "name": "stdout",
     "output_type": "stream",
     "text": [
      "#36: units=[28, 1]: samples=43/51, mean=1.6853e-06, std=1.1132e-06\n",
      "\n"
     ]
    },
    {
     "name": "stderr",
     "output_type": "stream",
     "text": [
      "[I 2020-07-21 16:36:19,843] Finished trial#36 with value: 1.6852606841196172e-06 with parameters: {'num_unit1': 28, 'num_unit2': 1}. Best is trial#13 with value: 1.0292702991044243e-06.\n"
     ]
    },
    {
     "name": "stdout",
     "output_type": "stream",
     "text": [
      "#37: units=[30, 1]: samples=44/51, mean=1.0497e-06, std=6.7596e-07\n",
      "\n"
     ]
    },
    {
     "name": "stderr",
     "output_type": "stream",
     "text": [
      "[I 2020-07-21 16:39:59,130] Finished trial#37 with value: 1.049689916725201e-06 with parameters: {'num_unit1': 30, 'num_unit2': 1}. Best is trial#13 with value: 1.0292702991044243e-06.\n"
     ]
    },
    {
     "name": "stdout",
     "output_type": "stream",
     "text": [
      "#38: units=[30, 1]: samples=44/51, mean=1.2029e-06, std=9.0761e-07\n",
      "\n"
     ]
    },
    {
     "name": "stderr",
     "output_type": "stream",
     "text": [
      "[I 2020-07-21 16:43:36,672] Finished trial#38 with value: 1.2029019061640414e-06 with parameters: {'num_unit1': 30, 'num_unit2': 1}. Best is trial#13 with value: 1.0292702991044243e-06.\n"
     ]
    },
    {
     "name": "stdout",
     "output_type": "stream",
     "text": [
      "#39: units=[31, 1]: samples=48/51, mean=1.4521e-06, std=9.6699e-07\n",
      "\n"
     ]
    },
    {
     "name": "stderr",
     "output_type": "stream",
     "text": [
      "[I 2020-07-21 16:47:29,632] Finished trial#39 with value: 1.4520543119012075e-06 with parameters: {'num_unit1': 31, 'num_unit2': 1}. Best is trial#13 with value: 1.0292702991044243e-06.\n"
     ]
    },
    {
     "name": "stdout",
     "output_type": "stream",
     "text": [
      "#40: units=[25, 2]: samples=46/51, mean=1.0373e-06, std=6.9630e-07\n",
      "\n"
     ]
    },
    {
     "name": "stderr",
     "output_type": "stream",
     "text": [
      "[I 2020-07-21 16:51:32,593] Finished trial#40 with value: 1.0373365251612283e-06 with parameters: {'num_unit1': 25, 'num_unit2': 2}. Best is trial#13 with value: 1.0292702991044243e-06.\n"
     ]
    },
    {
     "name": "stdout",
     "output_type": "stream",
     "text": [
      "#41: units=[25, 2]: samples=50/51, mean=1.3784e-06, std=9.3685e-07\n",
      "\n"
     ]
    },
    {
     "name": "stderr",
     "output_type": "stream",
     "text": [
      "[I 2020-07-21 16:55:25,414] Finished trial#41 with value: 1.3783721114890569e-06 with parameters: {'num_unit1': 25, 'num_unit2': 2}. Best is trial#13 with value: 1.0292702991044243e-06.\n"
     ]
    },
    {
     "name": "stdout",
     "output_type": "stream",
     "text": [
      "#42: units=[20, 3]: samples=48/51, mean=1.1862e-06, std=8.6796e-07\n",
      "\n"
     ]
    },
    {
     "name": "stderr",
     "output_type": "stream",
     "text": [
      "[I 2020-07-21 16:59:10,321] Finished trial#42 with value: 1.1862182519214077e-06 with parameters: {'num_unit1': 20, 'num_unit2': 3}. Best is trial#13 with value: 1.0292702991044243e-06.\n"
     ]
    },
    {
     "name": "stdout",
     "output_type": "stream",
     "text": [
      "#43: units=[26, 2]: samples=48/51, mean=1.0585e-06, std=8.3443e-07\n",
      "\n"
     ]
    },
    {
     "name": "stderr",
     "output_type": "stream",
     "text": [
      "[I 2020-07-21 17:03:09,487] Finished trial#43 with value: 1.0584795220314192e-06 with parameters: {'num_unit1': 26, 'num_unit2': 2}. Best is trial#13 with value: 1.0292702991044243e-06.\n"
     ]
    },
    {
     "name": "stdout",
     "output_type": "stream",
     "text": [
      "#44: units=[27, 2]: samples=50/51, mean=9.9842e-07, std=7.5791e-07\n",
      "\n"
     ]
    },
    {
     "name": "stderr",
     "output_type": "stream",
     "text": [
      "[I 2020-07-21 17:07:17,699] Finished trial#44 with value: 9.984214952396542e-07 with parameters: {'num_unit1': 27, 'num_unit2': 2}. Best is trial#44 with value: 9.984214952396542e-07.\n"
     ]
    },
    {
     "name": "stdout",
     "output_type": "stream",
     "text": [
      "#45: units=[30, 1]: samples=42/51, mean=1.3948e-06, std=1.0732e-06\n",
      "\n"
     ]
    },
    {
     "name": "stderr",
     "output_type": "stream",
     "text": [
      "[I 2020-07-21 17:11:00,737] Finished trial#45 with value: 1.3948291543574073e-06 with parameters: {'num_unit1': 30, 'num_unit2': 1}. Best is trial#44 with value: 9.984214952396542e-07.\n"
     ]
    },
    {
     "name": "stdout",
     "output_type": "stream",
     "text": [
      "#46: units=[27, 2]: samples=46/51, mean=1.0734e-06, std=5.9194e-07\n",
      "\n"
     ]
    },
    {
     "name": "stderr",
     "output_type": "stream",
     "text": [
      "[I 2020-07-21 17:15:09,500] Finished trial#46 with value: 1.0734122356960478e-06 with parameters: {'num_unit1': 27, 'num_unit2': 2}. Best is trial#44 with value: 9.984214952396542e-07.\n"
     ]
    },
    {
     "name": "stdout",
     "output_type": "stream",
     "text": [
      "#47: units=[28, 1]: samples=44/51, mean=1.8350e-06, std=1.2591e-06\n",
      "\n"
     ]
    },
    {
     "name": "stderr",
     "output_type": "stream",
     "text": [
      "[I 2020-07-21 17:18:49,217] Finished trial#47 with value: 1.8350429164890805e-06 with parameters: {'num_unit1': 28, 'num_unit2': 1}. Best is trial#44 with value: 9.984214952396542e-07.\n"
     ]
    },
    {
     "name": "stdout",
     "output_type": "stream",
     "text": [
      "#48: units=[25, 2]: samples=47/51, mean=1.0257e-06, std=6.6694e-07\n",
      "\n"
     ]
    },
    {
     "name": "stderr",
     "output_type": "stream",
     "text": [
      "[I 2020-07-21 17:22:49,160] Finished trial#48 with value: 1.0256803361251493e-06 with parameters: {'num_unit1': 25, 'num_unit2': 2}. Best is trial#44 with value: 9.984214952396542e-07.\n"
     ]
    },
    {
     "name": "stdout",
     "output_type": "stream",
     "text": [
      "#49: units=[25, 2]: samples=49/51, mean=1.2171e-06, std=8.7328e-07\n",
      "\n"
     ]
    },
    {
     "name": "stderr",
     "output_type": "stream",
     "text": [
      "[I 2020-07-21 17:26:57,589] Finished trial#49 with value: 1.2170830026886915e-06 with parameters: {'num_unit1': 25, 'num_unit2': 2}. Best is trial#44 with value: 9.984214952396542e-07.\n"
     ]
    },
    {
     "name": "stdout",
     "output_type": "stream",
     "text": [
      "#50: units=[1, 13]: samples=51/51, mean=1.0073e-04, std=1.1901e-04\n",
      "\n"
     ]
    },
    {
     "name": "stderr",
     "output_type": "stream",
     "text": [
      "[I 2020-07-21 17:30:22,800] Finished trial#50 with value: 0.00010072660186271414 with parameters: {'num_unit1': 1, 'num_unit2': 13}. Best is trial#44 with value: 9.984214952396542e-07.\n"
     ]
    },
    {
     "name": "stdout",
     "output_type": "stream",
     "text": [
      "\n",
      "\n",
      "*** All Trial are finished!! ***\n"
     ]
    }
   ],
   "source": [
    "study.optimize(objective, n_trials=50)\n",
    "\n",
    "print(\"\\n\")\n",
    "print(\"*** All Trial are finished!! ***\")"
   ]
  },
  {
   "cell_type": "code",
   "execution_count": null,
   "metadata": {},
   "outputs": [],
   "source": []
  }
 ],
 "metadata": {
  "kernelspec": {
   "display_name": "Python 3",
   "language": "python",
   "name": "python3"
  },
  "language_info": {
   "codemirror_mode": {
    "name": "ipython",
    "version": 3
   },
   "file_extension": ".py",
   "mimetype": "text/x-python",
   "name": "python",
   "nbconvert_exporter": "python",
   "pygments_lexer": "ipython3",
   "version": "3.7.7"
  }
 },
 "nbformat": 4,
 "nbformat_minor": 4
}
