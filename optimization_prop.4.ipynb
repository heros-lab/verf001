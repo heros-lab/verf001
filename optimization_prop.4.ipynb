{
 "cells": [
  {
   "cell_type": "code",
   "execution_count": 1,
   "metadata": {},
   "outputs": [],
   "source": [
    "import optuna\n",
    "import numpy as np\n",
    "import pandas as pd\n",
    "import matplotlib.pyplot as plt\n",
    "import toolkit.filter\n",
    "\n",
    "import tensorflow as tf\n",
    "from tensorflow.keras.backend import clear_session\n",
    "from tensorflow.keras.models import Sequential\n",
    "from tensorflow.keras.layers import Dense\n",
    "from tensorflow.keras.optimizers import Adam\n",
    "\n",
    "from optuna.integration import KerasPruningCallback\n"
   ]
  },
  {
   "cell_type": "code",
   "execution_count": 2,
   "metadata": {},
   "outputs": [
    {
     "name": "stdout",
     "output_type": "stream",
     "text": [
      "Not enough GPU hardware devices available\n"
     ]
    }
   ],
   "source": [
    "physical_devices = tf.config.experimental.list_physical_devices('GPU')\n",
    "if len(physical_devices) > 0:\n",
    "    for k in range(len(physical_devices)):\n",
    "        tf.config.experimental.set_memory_growth(physical_devices[k], True)\n",
    "        print('memory growth:', tf.config.experimental.get_memory_growth(physical_devices[k]))\n",
    "else:\n",
    "    print(\"Not enough GPU hardware devices available\")"
   ]
  },
  {
   "cell_type": "code",
   "execution_count": 3,
   "metadata": {},
   "outputs": [],
   "source": [
    "class DatasetClass:\n",
    "    def __init__(self, data_path):\n",
    "        self.path = data_path\n",
    "    \n",
    "    def __reflect_index(self, data, index):\n",
    "        if index != None:\n",
    "            data = data[:, index]\n",
    "        return data\n",
    "        \n",
    "    def __load_df(self, data_label):\n",
    "        data_x = pd.read_csv(f\"{self.path}/{data_label}_nx.csv\", index_col=0)\n",
    "        data_y = pd.read_csv(f\"{self.path}/{data_label}_ny.csv\", index_col=0)\n",
    "        return data_x, data_y\n",
    "    \n",
    "    def __load_data(self, data_label, x_index, y_index):\n",
    "        data_x, data_y = self.__load_df(data_label)\n",
    "        data_x = self.__reflect_index(data_x.values, x_index)\n",
    "        data_y = self.__reflect_index(data_y.values, y_index)\n",
    "        return data_x, data_y\n",
    "    \n",
    "    def __load_stack(self, dataset_list, x_index, y_index):\n",
    "        for label in dataset_list:\n",
    "            tmp_x, tmp_y = self.__load_data(label, x_index, y_index)\n",
    "            if dataset_list.index(label) == 0:\n",
    "                data_x = tmp_x\n",
    "                data_y = tmp_y\n",
    "            else:\n",
    "                data_x = np.vstack((data_x, tmp_x))\n",
    "                data_y = np.vstack((data_y, tmp_y))\n",
    "        return data_x, data_y\n",
    "    \n",
    "    def __load_dict(self, dataset_list, x_index, y_index):\n",
    "        data_x, data_y = {}, {}\n",
    "        for label in dataset_list:\n",
    "            tmp_x, tmp_y = self.__load_data(label, x_index, y_index)\n",
    "            data_x[label] = tmp_x\n",
    "            data_y[label] = tmp_y\n",
    "        return data_x, data_y\n",
    "    \n",
    "    def get_data(self, dataset_label, x_index=None, y_index=None, dict_type:bool=False):\n",
    "        if not dict_type:\n",
    "            if type(dataset_label) == str:\n",
    "                data_x, data_y = self.__load_data(dataset_label, x_index, y_index)\n",
    "            else:\n",
    "                data_x, data_y = self.__load_stack(dataset_label, x_index, y_index)\n",
    "        else:\n",
    "            data_x, data_y = self.__load_dict(dataset_label, x_index, y_index)\n",
    "        return data_x, data_y\n",
    "    \n",
    "    def get_dataframe(self, dataset_list):\n",
    "        data_x = {}\n",
    "        data_y = {}\n",
    "        for label in dataset_list:\n",
    "            tmp_x, tmp_y = self.__load_df(label)\n",
    "            data_x[label] = tmp_x\n",
    "            data_y[label] = tmp_y\n",
    "        return data_x, data_y\n",
    "\n",
    "\n",
    "def set_index(model_type):\n",
    "    if \"conv.\" in model_type:\n",
    "        x_index = [i for i in range(7)]\n",
    "    elif model_type == \"prop.1\":\n",
    "        x_index = [0,3,4,6]\n",
    "    elif model_type == \"prop.2\":\n",
    "        x_index = [1,2,5,6]\n",
    "    elif model_type == \"prop.3\":\n",
    "        x_index = [1,2,5,6]\n",
    "    elif model_type == \"prop.4\":\n",
    "        x_index = [0,3,4,5,6]\n",
    "    else:\n",
    "        print(f\"<< {model_type} >> This model is not exist.\")\n",
    "    y_index = [int(model_type[-1])-1]\n",
    "    return x_index, y_index\n",
    "\n",
    "\n",
    "def set_dataset_label(model_type):\n",
    "    type_id = int(model_type[-1])\n",
    "    if type_id == 1:\n",
    "        learn = \"ms1a\"\n",
    "        test = \"ms2a\"\n",
    "    elif type_id == 2:\n",
    "        learn = \"ms3a\"\n",
    "        test = \"ms1a\"\n",
    "    elif type_id == 3:\n",
    "        learn = \"ms2a\"\n",
    "        test = \"ms3a\"\n",
    "    elif type_id == 4:\n",
    "        learn = \"ms3a\"\n",
    "        test = \"ms1a\"\n",
    "    return learn, test\n"
   ]
  },
  {
   "cell_type": "code",
   "execution_count": 4,
   "metadata": {},
   "outputs": [
    {
     "name": "stdout",
     "output_type": "stream",
     "text": [
      "x_index: [0, 3, 4, 5, 6], y_index: [3]\n",
      "learn list: ms3a, test_list: ms1a\n"
     ]
    }
   ],
   "source": [
    "model_tag = \"prop.4\"\n",
    "data_path = f\"./dataset/norms\"\n",
    "\n",
    "x_index, y_index = set_index(model_tag)\n",
    "learn_list, test_list  = set_dataset_label(model_tag)\n",
    "\n",
    "dataset = DatasetClass(data_path)\n",
    "learn_x, learn_y = dataset.get_data(learn_list, x_index, y_index)\n",
    "test_x, test_y = dataset.get_data(test_list, x_index, y_index)\n",
    "\n",
    "print(f\"x_index: {x_index}, y_index: [{y_index[0]}]\")\n",
    "print(f\"learn list: {learn_list}, test_list: {test_list}\")\n"
   ]
  },
  {
   "cell_type": "code",
   "execution_count": 5,
   "metadata": {},
   "outputs": [
    {
     "name": "stderr",
     "output_type": "stream",
     "text": [
      "[I 2020-07-21 03:22:53,658] A new study created with name: prop.4_ver1.0\n"
     ]
    }
   ],
   "source": [
    "study_label = \"ver1.0\"\n",
    "STUDY_LOADING = False\n",
    "\n",
    "storage_path = f\"sqlite:///optimize_{model_tag}.db\"\n",
    "study_name = model_tag + \"_\" + study_label\n",
    "\n",
    "# study load or create\n",
    "if STUDY_LOADING:\n",
    "    study = optuna.load_study(study_name, storage_path, pruner=optuna.pruners.MedianPruner())\n",
    "else:\n",
    "    study = optuna.create_study(study_name=study_name, storage=storage_path, direction=\"minimize\", pruner=optuna.pruners.MedianPruner())\n"
   ]
  },
  {
   "cell_type": "code",
   "execution_count": 6,
   "metadata": {},
   "outputs": [],
   "source": [
    "batch_size = 1024\n",
    "element = 3592\n",
    "\n",
    "epochs = 200\n",
    "samples = 51\n",
    "input_unit = learn_x.shape[1]\n",
    "testdata_size = test_x.shape[0]\n",
    "\n",
    "filter = toolkit.filter.Filter_with_IQR()\n",
    "\n",
    "def objective(trial):\n",
    "    max_unit1 = 100\n",
    "    max_unit2 = 100\n",
    "    \n",
    "    num_unit1 = trial.suggest_int(f\"num_unit1\", 1, max_unit1)\n",
    "    buf_unit2 = int((element - input_unit * num_unit1)/(num_unit1 + 1))\n",
    "    if max_unit2 >= buf_unit2:\n",
    "        max_unit2 = buf_unit2\n",
    "    num_unit2 = trial.suggest_int(f\"num_unit2\", 1, max_unit2)\n",
    "    \n",
    "    score_list = [np.nan for i in range(samples)]\n",
    "    for i in range(samples):\n",
    "        clear_session()\n",
    "        model = Sequential([\n",
    "            Dense(input_dim=input_unit, units=num_unit1, activation=\"tanh\", kernel_initializer=\"glorot_uniform\"),\n",
    "            Dense(input_dim=num_unit1, units=num_unit2, activation=\"tanh\", kernel_initializer=\"glorot_uniform\"),\n",
    "            Dense(input_dim=num_unit2, units=1, kernel_initializer=\"glorot_uniform\")\n",
    "        ])\n",
    "        model.compile(loss=\"mse\", optimizer=Adam())\n",
    "        model.fit(learn_x, learn_y, batch_size=batch_size, epochs=epochs, verbose=0)\n",
    "        score = model.evaluate(test_x, test_y, batch_size=testdata_size, verbose=0)\n",
    "        score_list[i] = score\n",
    "        print(f\"\\r#{trial.number:2}: units={[num_unit1, num_unit2]}, sample {i}/{samples}, score:{score:.4e}\", end=\"\")\n",
    "        \n",
    "    df_score = filter.filtering(score_list)\n",
    "    count, mean, std = df_score.describe().loc[[\"count\",\"mean\",\"std\"]]\n",
    "    print(f\"\\r#{trial.number:2}: units={[num_unit1, num_unit2]}: samples={int(count)}/{samples}, mean={mean:.4e}, std={std:.4e}\\n\")\n",
    "    return mean"
   ]
  },
  {
   "cell_type": "code",
   "execution_count": null,
   "metadata": {
    "scrolled": false
   },
   "outputs": [
    {
     "name": "stdout",
     "output_type": "stream",
     "text": [
      "# 0: units=[89, 15]: samples=46/51, mean=2.0298e-06, std=9.2221e-07\n",
      "\n"
     ]
    },
    {
     "name": "stderr",
     "output_type": "stream",
     "text": [
      "[I 2020-07-21 03:29:01,094] Finished trial#0 with value: 2.0298496635810492e-06 with parameters: {'num_unit1': 89, 'num_unit2': 15}. Best is trial#0 with value: 2.0298496635810492e-06.\n"
     ]
    },
    {
     "name": "stdout",
     "output_type": "stream",
     "text": [
      "# 1: units=[80, 25]: samples=46/51, mean=1.8964e-06, std=6.8224e-07\n",
      "\n"
     ]
    },
    {
     "name": "stderr",
     "output_type": "stream",
     "text": [
      "[I 2020-07-21 03:35:07,322] Finished trial#1 with value: 1.8964499885066248e-06 with parameters: {'num_unit1': 80, 'num_unit2': 25}. Best is trial#1 with value: 1.8964499885066248e-06.\n"
     ]
    },
    {
     "name": "stdout",
     "output_type": "stream",
     "text": [
      "# 2: units=[52, 43]: samples=45/51, mean=2.1196e-06, std=1.1069e-06\n",
      "\n"
     ]
    },
    {
     "name": "stderr",
     "output_type": "stream",
     "text": [
      "[I 2020-07-21 03:41:09,677] Finished trial#2 with value: 2.1196327022860513e-06 with parameters: {'num_unit1': 52, 'num_unit2': 43}. Best is trial#1 with value: 1.8964499885066248e-06.\n"
     ]
    },
    {
     "name": "stdout",
     "output_type": "stream",
     "text": [
      "# 3: units=[62, 10]: samples=48/51, mean=2.6717e-06, std=1.2991e-06\n",
      "\n"
     ]
    },
    {
     "name": "stderr",
     "output_type": "stream",
     "text": [
      "[I 2020-07-21 03:46:33,346] Finished trial#3 with value: 2.6717105292561882e-06 with parameters: {'num_unit1': 62, 'num_unit2': 10}. Best is trial#1 with value: 1.8964499885066248e-06.\n"
     ]
    },
    {
     "name": "stdout",
     "output_type": "stream",
     "text": [
      "# 4: units=[100, 11]: samples=44/51, mean=1.9690e-06, std=9.2980e-07\n",
      "\n"
     ]
    },
    {
     "name": "stderr",
     "output_type": "stream",
     "text": [
      "[I 2020-07-21 03:52:48,103] Finished trial#4 with value: 1.969027822083676e-06 with parameters: {'num_unit1': 100, 'num_unit2': 11}. Best is trial#1 with value: 1.8964499885066248e-06.\n"
     ]
    },
    {
     "name": "stdout",
     "output_type": "stream",
     "text": [
      "# 5: units=[87, 11]: samples=46/51, mean=2.0527e-06, std=1.1400e-06\n",
      "\n"
     ]
    },
    {
     "name": "stderr",
     "output_type": "stream",
     "text": [
      "[I 2020-07-21 03:58:52,561] Finished trial#5 with value: 2.052732267296288e-06 with parameters: {'num_unit1': 87, 'num_unit2': 11}. Best is trial#1 with value: 1.8964499885066248e-06.\n"
     ]
    },
    {
     "name": "stdout",
     "output_type": "stream",
     "text": [
      "# 6: units=[15, 54]: samples=49/51, mean=4.2882e-06, std=2.1050e-06\n",
      "\n"
     ]
    },
    {
     "name": "stderr",
     "output_type": "stream",
     "text": [
      "[I 2020-07-21 04:04:18,503] Finished trial#6 with value: 4.288150166201153e-06 with parameters: {'num_unit1': 15, 'num_unit2': 54}. Best is trial#1 with value: 1.8964499885066248e-06.\n"
     ]
    },
    {
     "name": "stdout",
     "output_type": "stream",
     "text": [
      "# 7: units=[42, 19]: samples=49/51, mean=2.4547e-06, std=1.2657e-06\n",
      "\n"
     ]
    },
    {
     "name": "stderr",
     "output_type": "stream",
     "text": [
      "[I 2020-07-21 04:09:45,759] Finished trial#7 with value: 2.4547268590047642e-06 with parameters: {'num_unit1': 42, 'num_unit2': 19}. Best is trial#1 with value: 1.8964499885066248e-06.\n"
     ]
    },
    {
     "name": "stdout",
     "output_type": "stream",
     "text": [
      "# 8: units=[17, 56]: samples=49/51, mean=4.0280e-06, std=2.0080e-06\n",
      "\n"
     ]
    },
    {
     "name": "stderr",
     "output_type": "stream",
     "text": [
      "[I 2020-07-21 04:15:20,206] Finished trial#8 with value: 4.02797245419142e-06 with parameters: {'num_unit1': 17, 'num_unit2': 56}. Best is trial#1 with value: 1.8964499885066248e-06.\n"
     ]
    },
    {
     "name": "stdout",
     "output_type": "stream",
     "text": [
      "# 9: units=[41, 79]: samples=47/51, mean=2.8081e-06, std=1.5433e-06\n",
      "\n"
     ]
    },
    {
     "name": "stderr",
     "output_type": "stream",
     "text": [
      "[I 2020-07-21 04:22:01,696] Finished trial#9 with value: 2.8080838084880523e-06 with parameters: {'num_unit1': 41, 'num_unit2': 79}. Best is trial#1 with value: 1.8964499885066248e-06.\n"
     ]
    },
    {
     "name": "stdout",
     "output_type": "stream",
     "text": [
      "#10: units=[72, 30]: samples=47/51, mean=2.2976e-06, std=1.0511e-06\n",
      "\n"
     ]
    },
    {
     "name": "stderr",
     "output_type": "stream",
     "text": [
      "[I 2020-07-21 04:28:07,628] Finished trial#10 with value: 2.297633125423051e-06 with parameters: {'num_unit1': 72, 'num_unit2': 30}. Best is trial#1 with value: 1.8964499885066248e-06.\n"
     ]
    },
    {
     "name": "stdout",
     "output_type": "stream",
     "text": [
      "#11: units=[93, 3]: samples=47/51, mean=3.1345e-06, std=2.1407e-06\n",
      "\n"
     ]
    },
    {
     "name": "stderr",
     "output_type": "stream",
     "text": [
      "[I 2020-07-21 04:34:06,357] Finished trial#11 with value: 3.1344980644907412e-06 with parameters: {'num_unit1': 93, 'num_unit2': 3}. Best is trial#1 with value: 1.8964499885066248e-06.\n"
     ]
    },
    {
     "name": "stdout",
     "output_type": "stream",
     "text": [
      "#12: units=[76, 28]: samples=45/51, mean=1.9102e-06, std=8.9129e-07\n",
      "\n"
     ]
    },
    {
     "name": "stderr",
     "output_type": "stream",
     "text": [
      "[I 2020-07-21 04:40:07,946] Finished trial#12 with value: 1.910205916525835e-06 with parameters: {'num_unit1': 76, 'num_unit2': 28}. Best is trial#1 with value: 1.8964499885066248e-06.\n"
     ]
    },
    {
     "name": "stdout",
     "output_type": "stream",
     "text": [
      "#13: units=[73, 30]: samples=46/51, mean=3.0271e-06, std=1.7476e-06\n",
      "\n"
     ]
    },
    {
     "name": "stderr",
     "output_type": "stream",
     "text": [
      "[I 2020-07-21 04:46:11,909] Finished trial#13 with value: 3.027107477069164e-06 with parameters: {'num_unit1': 73, 'num_unit2': 30}. Best is trial#1 with value: 1.8964499885066248e-06.\n"
     ]
    },
    {
     "name": "stdout",
     "output_type": "stream",
     "text": [
      "#14: units=[77, 28]: samples=43/51, mean=1.9086e-06, std=9.0680e-07\n",
      "\n"
     ]
    },
    {
     "name": "stderr",
     "output_type": "stream",
     "text": [
      "[I 2020-07-21 04:52:43,115] Finished trial#14 with value: 1.908601477627472e-06 with parameters: {'num_unit1': 77, 'num_unit2': 28}. Best is trial#1 with value: 1.8964499885066248e-06.\n"
     ]
    },
    {
     "name": "stdout",
     "output_type": "stream",
     "text": [
      "#15: units=[60, 39], sample 13/51, score:1.1915e-06"
     ]
    }
   ],
   "source": [
    "study.optimize(objective, n_trials=100)\n",
    "\n",
    "print(\"\\n\")\n",
    "print(\"*** All Trial are finished!! ***\")"
   ]
  },
  {
   "cell_type": "code",
   "execution_count": null,
   "metadata": {},
   "outputs": [],
   "source": []
  }
 ],
 "metadata": {
  "kernelspec": {
   "display_name": "Python 3",
   "language": "python",
   "name": "python3"
  },
  "language_info": {
   "codemirror_mode": {
    "name": "ipython",
    "version": 3
   },
   "file_extension": ".py",
   "mimetype": "text/x-python",
   "name": "python",
   "nbconvert_exporter": "python",
   "pygments_lexer": "ipython3",
   "version": "3.7.7"
  }
 },
 "nbformat": 4,
 "nbformat_minor": 4
}
