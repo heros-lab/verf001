{
 "cells": [
  {
   "cell_type": "code",
   "execution_count": 1,
   "metadata": {},
   "outputs": [],
   "source": [
    "import numpy as np\n",
    "import pandas as pd\n",
    "import matplotlib.pyplot as plt\n",
    "from scipy.integrate import odeint"
   ]
  },
  {
   "cell_type": "code",
   "execution_count": 6,
   "metadata": {},
   "outputs": [],
   "source": [
    "class MseriesGeneratorClass:\n",
    "    def __init__(self, k, Tc, binary=[0,1]):\n",
    "        self._generate_vec = np.vectorize(self._generate)\n",
    "        \n",
    "        comb = np.array([\n",
    "            [2, 1], [3, 1], [4, 1], [5, 2], [6, 2], [7, 1],\n",
    "            [7, 3], [10,3], [17,3], [18,7], [21,2], [22,1]])\n",
    "        \n",
    "        (self._p, self._q) = comb[k]\n",
    "        self._Tc = Tc\n",
    "        self._T = 2**self._p - 1\n",
    "        self._binary = binary\n",
    "        self._mseries = [1] + [0 for i in range(self._p-1)]\n",
    "        for i in range(self._p, self._T):\n",
    "            self._mseries.append(self._mseries[i-self._p] ^ self._mseries[i-self._q])\n",
    "        self._mseries = np.array(self._mseries)\n",
    "        print(f\"p = {self._p}, q = {self._q}, T = {self._T}\")\n",
    "    \n",
    "    def get_period(self):\n",
    "        return self._T\n",
    "    \n",
    "    def get_mseries(self):\n",
    "        return self._mseries\n",
    "    \n",
    "    def _generate(self, t):\n",
    "        k = int(t/self._Tc)\n",
    "        if k > self._T-1:\n",
    "            k = k % self._T\n",
    "        else:\n",
    "            pass #nothing\n",
    "        u = self._mseries[k]\n",
    "        if u > 0:\n",
    "            u = self._binary[1]\n",
    "        else:\n",
    "            u = self._binary[0]\n",
    "        return u\n",
    "    \n",
    "    def output(self, t):\n",
    "        if type(t) == float:\n",
    "            u = self._generate(t)\n",
    "        else:\n",
    "            u = self._generate_vec(t)\n",
    "        return u\n",
    "\n",
    "\n",
    "class PlantClass:\n",
    "    def __init__(self):\n",
    "        # ++ Parameter ++\n",
    "        I1 = 9.38062e-4 # [kgm^2] ....... 慣性モーメント（振子部）\n",
    "        I2 = 6.56e-4       # [kgm^2] ....... 慣性モーメント（ロータ部）\n",
    "        m1 = 0.669        # [kg] .......... 振子部の質量（モータを含む）\n",
    "        m2 = 0.519        # [kg] .......... ロータ部の質量\n",
    "        lg = 0.059758    # [m] ........... 主軸 - 重心間の距離\n",
    "        l  = 0.157           # [m] ........... 軸間距離（主軸 - ロータ軸）\n",
    "        c1 = 0.02           # [Nm.sec/rad] .. 粘性摩擦トルク係数（第1軸）\n",
    "        c2 = 0.009         # [Nm.sec/rad] .. 粘性摩擦トルク係数（第2軸）\n",
    "        Kt = 2.07e-3       # [Nm/A] ........ トルク定数\n",
    "        Ka = 1                # [--] .......... DCアンプゲイン\n",
    "        Rm = 2.8            # [Ω] ........... 抵抗\n",
    "        gr = 1/51           # [--] .......... 減速比\n",
    "        g  = 9.81            # [m/s^2] ....... 重力加速度\n",
    "\n",
    "        I = I1 + m1 * lg**2 + m2 * l**2\n",
    "        b = (Kt * Ka) / (gr * Rm)\n",
    "        f = (m1 * lg + m2 * l) * g / I\n",
    "        b1 = b/I\n",
    "        b2 = b/I + b/I2\n",
    "\n",
    "        # ++ State Space Matrix ++\n",
    "        self._A = np.array([\n",
    "            [0, 0, 1, 0],\n",
    "            [0, 0, 0, 1],\n",
    "            [0, 0,-c1/I, c2/I],\n",
    "            [0, 0, c1/I, -(c2/I + c2/I2)]\n",
    "        ])\n",
    "        self._B = np.array([0, 0, -b1, b2])\n",
    "        self._F = np.array([0, 0, -f, f])\n",
    "        \n",
    "        # Linearized system matrix \"A\"\n",
    "        #self._Al = np.array([\n",
    "        #    [   0, 0, 1, 0],\n",
    "        #    [   0, 0, 0, 1],\n",
    "        #    [-f/I, 0,-c1/I, c2/I],\n",
    "        #    [ f/I, 0, c1/I, -(c2/I + c2/I2)]])\n",
    "        \n",
    "    def act(self, x, u):\n",
    "        return self._A.dot(x) + self._B*u + self._F*np.sin(x[0])\n",
    "\n",
    "    \n",
    "class RecorderClass:\n",
    "    def __init__(self):\n",
    "        self._t = []\n",
    "        self._x = []\n",
    "        \n",
    "    def reset(self):\n",
    "        self._t = []\n",
    "        self._x = []\n",
    "    \n",
    "    def rec(self, t, x):\n",
    "        self._t.append(t)\n",
    "        self._x.append(x)\n",
    "    \n",
    "    def get_rec(self):\n",
    "        return (np.array(self._t), np.array(self._x))\n",
    "    \n",
    "    "
   ]
  },
  {
   "cell_type": "code",
   "execution_count": 8,
   "metadata": {},
   "outputs": [],
   "source": [
    "#Tc  = 0.015    # when M-Series type1\n",
    "#Tc  = 0.006    # when M-Series type2\n",
    "Tc  = 0.0165  # when M-Series type3"
   ]
  },
  {
   "cell_type": "code",
   "execution_count": 9,
   "metadata": {},
   "outputs": [
    {
     "name": "stdout",
     "output_type": "stream",
     "text": [
      "p = 10, q = 3, T = 1023\n",
      "M-Series signal's period: 16.880[sec]\n"
     ]
    }
   ],
   "source": [
    "high_value = 0.0\n",
    "low_value = 12.0\n",
    "\n",
    "plant = PlantClass()\n",
    "gen = MseriesGeneratorClass(7, Tc, binary=[low_value, high_value])\n",
    "\n",
    "print(f\"M-Series signal's period: {Tc*gen.get_period():.3f}[sec]\")\n",
    "\n",
    "# define control-system\n",
    "def system(x, t):\n",
    "    u = gen.output(t)\n",
    "    return plant.act(x, u)"
   ]
  },
  {
   "cell_type": "code",
   "execution_count": 10,
   "metadata": {},
   "outputs": [],
   "source": [
    "Ts  = 0.001\n",
    "sim_time = 20.0+Ts\n",
    "t_span = np.arange(0, sim_time, Ts)"
   ]
  },
  {
   "cell_type": "code",
   "execution_count": 12,
   "metadata": {},
   "outputs": [],
   "source": [
    "x0 = [0., 0., 0., 0.]\n",
    "resp_x = odeint(system, x0, t_span)\n",
    "ref_u = gen.output(t_span)"
   ]
  },
  {
   "cell_type": "code",
   "execution_count": 13,
   "metadata": {},
   "outputs": [],
   "source": [
    "dxdt = []\n",
    "for i in range(ref_u.size):\n",
    "    dxdt.append(plant.act(resp_x[i],ref_u[i]))\n",
    "dxdt = np.array(dxdt)\n",
    "\n",
    "data = np.hstack((resp_x, dxdt[:,2:], ref_u[:,np.newaxis]))"
   ]
  },
  {
   "cell_type": "code",
   "execution_count": 14,
   "metadata": {},
   "outputs": [
    {
     "data": {
      "text/plain": [
       "[<matplotlib.lines.Line2D at 0x7fbba9f85410>]"
      ]
     },
     "execution_count": 14,
     "metadata": {},
     "output_type": "execute_result"
    },
    {
     "data": {
      "image/png": "[encoded data removed]",
      "text/plain": [
       "<Figure size 432x288 with 2 Axes>"
      ]
     },
     "metadata": {
      "needs_background": "light"
     },
     "output_type": "display_data"
    }
   ],
   "source": [
    "# check the results\n",
    "plt.subplot(211)\n",
    "plt.plot(t_span, resp_x[:,3])\n",
    "\n",
    "plt.subplot(212)\n",
    "plt.plot(t_span, ref_u)"
   ]
  },
  {
   "cell_type": "code",
   "execution_count": 15,
   "metadata": {},
   "outputs": [],
   "source": [
    "df_respx = pd.DataFrame({\n",
    "    \"Time[sec]\": np.round(t_span[:-1],3),\n",
    "    \"x1[k]\": data[:-1, 0],\n",
    "    \"x2[k]\": data[:-1, 1],\n",
    "    \"x3[k]\": data[:-1, 2],\n",
    "    \"x4[k]\": data[:-1, 3],\n",
    "    \"d/dt x3[k]\": data[:-1, 4],\n",
    "    \"d/dt x4[k]\": data[:-1, 5],\n",
    "    \"voltage\": data[:-1, 6]\n",
    "})\n",
    "\n",
    "df_respy = pd.DataFrame({\n",
    "    \"Time[sec]\": np.round(t_span[1:],3),\n",
    "    \"x1[k+1]\": data[1:, 0],\n",
    "    \"x2[k+1]\": data[1:, 1],\n",
    "    \"x3[k+1]\": data[1:, 2],\n",
    "    \"x4[k+1]\": data[1:, 3]\n",
    "})"
   ]
  },
  {
   "cell_type": "code",
   "execution_count": null,
   "metadata": {},
   "outputs": [],
   "source": [
    "data_label = \"ms3b\"\n",
    "\n",
    "df_respx.to_csv(f\"{data_label}_x.csv\", index=False)\n",
    "df_respy.to_csv(f\"{data_label}_y.csv\", index=False)"
   ]
  }
 ],
 "metadata": {
  "kernelspec": {
   "display_name": "Python 3",
   "language": "python",
   "name": "python3"
  },
  "language_info": {
   "codemirror_mode": {
    "name": "ipython",
    "version": 3
   },
   "file_extension": ".py",
   "mimetype": "text/x-python",
   "name": "python",
   "nbconvert_exporter": "python",
   "pygments_lexer": "ipython3",
   "version": "3.7.6"
  }
 },
 "nbformat": 4,
 "nbformat_minor": 4
}
