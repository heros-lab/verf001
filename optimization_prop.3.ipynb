{
 "cells": [
  {
   "cell_type": "code",
   "execution_count": 1,
   "metadata": {},
   "outputs": [],
   "source": [
    "import optuna\n",
    "import numpy as np\n",
    "import pandas as pd\n",
    "import matplotlib.pyplot as plt\n",
    "import toolkit.filter\n",
    "\n",
    "import tensorflow as tf\n",
    "from tensorflow.keras.backend import clear_session\n",
    "from tensorflow.keras.models import Sequential\n",
    "from tensorflow.keras.layers import Dense\n",
    "from tensorflow.keras.optimizers import Adam\n",
    "\n",
    "from optuna.integration import KerasPruningCallback\n"
   ]
  },
  {
   "cell_type": "code",
   "execution_count": 2,
   "metadata": {},
   "outputs": [
    {
     "name": "stdout",
     "output_type": "stream",
     "text": [
      "Not enough GPU hardware devices available\n"
     ]
    }
   ],
   "source": [
    "physical_devices = tf.config.experimental.list_physical_devices('GPU')\n",
    "if len(physical_devices) > 0:\n",
    "    for k in range(len(physical_devices)):\n",
    "        tf.config.experimental.set_memory_growth(physical_devices[k], True)\n",
    "        print('memory growth:', tf.config.experimental.get_memory_growth(physical_devices[k]))\n",
    "else:\n",
    "    print(\"Not enough GPU hardware devices available\")"
   ]
  },
  {
   "cell_type": "code",
   "execution_count": 3,
   "metadata": {},
   "outputs": [],
   "source": [
    "class DatasetClass:\n",
    "    def __init__(self, data_path):\n",
    "        self.path = data_path\n",
    "    \n",
    "    def __reflect_index(self, data, index):\n",
    "        if index != None:\n",
    "            data = data[:, index]\n",
    "        return data\n",
    "        \n",
    "    def __load_df(self, data_label):\n",
    "        data_x = pd.read_csv(f\"{self.path}/{data_label}_nx.csv\", index_col=0)\n",
    "        data_y = pd.read_csv(f\"{self.path}/{data_label}_ny.csv\", index_col=0)\n",
    "        return data_x, data_y\n",
    "    \n",
    "    def __load_data(self, data_label, x_index, y_index):\n",
    "        data_x, data_y = self.__load_df(data_label)\n",
    "        data_x = self.__reflect_index(data_x.values, x_index)\n",
    "        data_y = self.__reflect_index(data_y.values, y_index)\n",
    "        return data_x, data_y\n",
    "    \n",
    "    def __load_stack(self, dataset_list, x_index, y_index):\n",
    "        for label in dataset_list:\n",
    "            tmp_x, tmp_y = self.__load_data(label, x_index, y_index)\n",
    "            if dataset_list.index(label) == 0:\n",
    "                data_x = tmp_x\n",
    "                data_y = tmp_y\n",
    "            else:\n",
    "                data_x = np.vstack((data_x, tmp_x))\n",
    "                data_y = np.vstack((data_y, tmp_y))\n",
    "        return data_x, data_y\n",
    "    \n",
    "    def __load_dict(self, dataset_list, x_index, y_index):\n",
    "        data_x, data_y = {}, {}\n",
    "        for label in dataset_list:\n",
    "            tmp_x, tmp_y = self.__load_data(label, x_index, y_index)\n",
    "            data_x[label] = tmp_x\n",
    "            data_y[label] = tmp_y\n",
    "        return data_x, data_y\n",
    "    \n",
    "    def get_data(self, dataset_label, x_index=None, y_index=None, dict_type:bool=False):\n",
    "        if not dict_type:\n",
    "            if type(dataset_label) == str:\n",
    "                data_x, data_y = self.__load_data(dataset_label, x_index, y_index)\n",
    "            else:\n",
    "                data_x, data_y = self.__load_stack(dataset_label, x_index, y_index)\n",
    "        else:\n",
    "            data_x, data_y = self.__load_dict(dataset_label, x_index, y_index)\n",
    "        return data_x, data_y\n",
    "    \n",
    "    def get_dataframe(self, dataset_list):\n",
    "        data_x = {}\n",
    "        data_y = {}\n",
    "        for label in dataset_list:\n",
    "            tmp_x, tmp_y = self.__load_df(label)\n",
    "            data_x[label] = tmp_x\n",
    "            data_y[label] = tmp_y\n",
    "        return data_x, data_y\n",
    "\n",
    "\n",
    "def set_index(model_type):\n",
    "    if \"conv.\" in model_type:\n",
    "        x_index = [i for i in range(7)]\n",
    "    elif model_type == \"prop.1\":\n",
    "        x_index = [0,3,4,6]\n",
    "    elif model_type == \"prop.2\":\n",
    "        x_index = [1,2,5,6]\n",
    "    elif model_type == \"prop.3\":\n",
    "        x_index = [1,2,5,6]\n",
    "    elif model_type == \"prop.4\":\n",
    "        x_index = [0,3,4,5,6]\n",
    "    else:\n",
    "        print(f\"<< {model_type} >> This model is not exist.\")\n",
    "    y_index = [int(model_type[-1])-1]\n",
    "    return x_index, y_index\n",
    "\n",
    "\n",
    "def set_dataset_label(model_type):\n",
    "    type_id = int(model_type[-1])\n",
    "    if type_id == 1:\n",
    "        learn = \"ms1a\"\n",
    "        test = \"ms2a\"\n",
    "    elif type_id == 2:\n",
    "        learn = \"ms3a\"\n",
    "        test = \"ms1a\"\n",
    "    elif type_id == 3:\n",
    "        learn = \"ms2a\"\n",
    "        test = \"ms3a\"\n",
    "    elif type_id == 4:\n",
    "        learn = \"ms3a\"\n",
    "        test = \"ms1a\"\n",
    "    return learn, test\n"
   ]
  },
  {
   "cell_type": "code",
   "execution_count": 4,
   "metadata": {},
   "outputs": [
    {
     "name": "stdout",
     "output_type": "stream",
     "text": [
      "x_index: [1, 2, 5, 6], y_index: [2]\n",
      "learn list: ms2a, test_list: ms3a\n"
     ]
    }
   ],
   "source": [
    "model_tag = \"prop.3\"\n",
    "data_path = f\"./dataset/norms\"\n",
    "\n",
    "x_index, y_index = set_index(model_tag)\n",
    "learn_list, test_list  = set_dataset_label(model_tag)\n",
    "\n",
    "dataset = DatasetClass(data_path)\n",
    "learn_x, learn_y = dataset.get_data(learn_list, x_index, y_index)\n",
    "test_x, test_y = dataset.get_data(test_list, x_index, y_index)\n",
    "\n",
    "print(f\"x_index: {x_index}, y_index: [{y_index[0]}]\")\n",
    "print(f\"learn list: {learn_list}, test_list: {test_list}\")\n"
   ]
  },
  {
   "cell_type": "code",
   "execution_count": 5,
   "metadata": {},
   "outputs": [],
   "source": [
    "study_label = \"ver1.0\"\n",
    "STUDY_LOADING = True\n",
    "\n",
    "storage_path = f\"sqlite:///optimize_{model_tag}.db\"\n",
    "study_name = model_tag + \"_\" + study_label\n",
    "\n",
    "# study load or create\n",
    "if STUDY_LOADING:\n",
    "    study = optuna.load_study(study_name, storage_path, pruner=optuna.pruners.MedianPruner())\n",
    "else:\n",
    "    study = optuna.create_study(study_name=study_name, storage=storage_path, direction=\"minimize\", pruner=optuna.pruners.MedianPruner())\n"
   ]
  },
  {
   "cell_type": "code",
   "execution_count": 6,
   "metadata": {},
   "outputs": [],
   "source": [
    "batch_size = 256\n",
    "element = 1369\n",
    "\n",
    "epochs = 200\n",
    "samples = 51\n",
    "input_unit = learn_x.shape[1]\n",
    "testdata_size = test_x.shape[0]\n",
    "\n",
    "filter = toolkit.filter.Filter_with_IQR()\n",
    "\n",
    "def objective(trial):\n",
    "    max_unit1 = 100\n",
    "    max_unit2 = 100\n",
    "    \n",
    "    num_unit1 = trial.suggest_int(f\"num_unit1\", 1, max_unit1)\n",
    "    buf_unit2 = int((element - input_unit * num_unit1)/(num_unit1 + 1))\n",
    "    if max_unit2 >= buf_unit2:\n",
    "        max_unit2 = buf_unit2\n",
    "    num_unit2 = trial.suggest_int(f\"num_unit2\", 1, max_unit2)\n",
    "    \n",
    "    score_list = [np.nan for i in range(samples)]\n",
    "    for i in range(samples):\n",
    "        clear_session()\n",
    "        model = Sequential([\n",
    "            Dense(input_dim=input_unit, units=num_unit1, activation=\"tanh\", kernel_initializer=\"glorot_uniform\"),\n",
    "            Dense(input_dim=num_unit1, units=num_unit2, activation=\"tanh\", kernel_initializer=\"glorot_uniform\"),\n",
    "            Dense(input_dim=num_unit2, units=1, kernel_initializer=\"glorot_uniform\")\n",
    "        ])\n",
    "        model.compile(loss=\"mse\", optimizer=Adam())\n",
    "        model.fit(learn_x, learn_y, batch_size=batch_size, epochs=epochs, verbose=0)\n",
    "        score = model.evaluate(test_x, test_y, batch_size=testdata_size, verbose=0)\n",
    "        score_list[i] = score\n",
    "        print(f\"\\r#{trial.number:2}: units={[num_unit1, num_unit2]}, sample {i}/{samples}, score:{score:.4e}\", end=\"\")\n",
    "        \n",
    "    df_score = filter.filtering(score_list)\n",
    "    count, mean, std = df_score.describe().loc[[\"count\",\"mean\",\"std\"]]\n",
    "    print(f\"\\r#{trial.number:2}: units={[num_unit1, num_unit2]}: samples={int(count)}/{samples}, mean={mean:.4e}, std={std:.4e}\\n\")\n",
    "    return mean"
   ]
  },
  {
   "cell_type": "code",
   "execution_count": null,
   "metadata": {
    "scrolled": false
   },
   "outputs": [
    {
     "name": "stdout",
     "output_type": "stream",
     "text": [
      "#17: units=[17, 59]: samples=43/51, mean=2.0779e-06, std=1.2117e-06\n",
      "\n"
     ]
    },
    {
     "name": "stderr",
     "output_type": "stream",
     "text": [
      "[I 2020-07-21 03:28:29,292] Finished trial#17 with value: 2.0779156353603677e-06 with parameters: {'num_unit1': 17, 'num_unit2': 59}. Best is trial#0 with value: 1.0673152356265414e-06.\n"
     ]
    },
    {
     "name": "stdout",
     "output_type": "stream",
     "text": [
      "#18: units=[44, 13]: samples=48/51, mean=1.8554e-06, std=1.5459e-06\n",
      "\n"
     ]
    },
    {
     "name": "stderr",
     "output_type": "stream",
     "text": [
      "[I 2020-07-21 03:35:54,853] Finished trial#18 with value: 1.8553518075966242e-06 with parameters: {'num_unit1': 44, 'num_unit2': 13}. Best is trial#0 with value: 1.0673152356265414e-06.\n"
     ]
    },
    {
     "name": "stdout",
     "output_type": "stream",
     "text": [
      "#19: units=[65, 6]: samples=44/51, mean=1.3051e-06, std=9.7157e-07\n",
      "\n"
     ]
    },
    {
     "name": "stderr",
     "output_type": "stream",
     "text": [
      "[I 2020-07-21 03:42:59,929] Finished trial#19 with value: 1.3050804978123862e-06 with parameters: {'num_unit1': 65, 'num_unit2': 6}. Best is trial#0 with value: 1.0673152356265414e-06.\n"
     ]
    },
    {
     "name": "stdout",
     "output_type": "stream",
     "text": [
      "#20: units=[1, 67]: samples=51/51, mean=8.9138e-04, std=9.8736e-04\n",
      "\n"
     ]
    },
    {
     "name": "stderr",
     "output_type": "stream",
     "text": [
      "[I 2020-07-21 03:49:37,267] Finished trial#20 with value: 0.0008913789588444063 with parameters: {'num_unit1': 1, 'num_unit2': 67}. Best is trial#0 with value: 1.0673152356265414e-06.\n"
     ]
    },
    {
     "name": "stdout",
     "output_type": "stream",
     "text": [
      "#21: units=[53, 14]: samples=46/51, mean=1.2199e-06, std=8.4790e-07\n",
      "\n"
     ]
    },
    {
     "name": "stderr",
     "output_type": "stream",
     "text": [
      "[I 2020-07-21 03:57:21,911] Finished trial#21 with value: 1.2199054140182852e-06 with parameters: {'num_unit1': 53, 'num_unit2': 14}. Best is trial#0 with value: 1.0673152356265414e-06.\n"
     ]
    },
    {
     "name": "stdout",
     "output_type": "stream",
     "text": [
      "#22: units=[31, 15]: samples=44/51, mean=1.2915e-06, std=5.5354e-07\n",
      "\n"
     ]
    },
    {
     "name": "stderr",
     "output_type": "stream",
     "text": [
      "[I 2020-07-21 04:04:27,745] Finished trial#22 with value: 1.2914748349534089e-06 with parameters: {'num_unit1': 31, 'num_unit2': 15}. Best is trial#0 with value: 1.0673152356265414e-06.\n"
     ]
    },
    {
     "name": "stdout",
     "output_type": "stream",
     "text": [
      "#23: units=[54, 6]: samples=46/51, mean=1.5190e-06, std=1.0042e-06\n",
      "\n"
     ]
    },
    {
     "name": "stderr",
     "output_type": "stream",
     "text": [
      "[I 2020-07-21 04:11:46,889] Finished trial#23 with value: 1.519028694597973e-06 with parameters: {'num_unit1': 54, 'num_unit2': 6}. Best is trial#0 with value: 1.0673152356265414e-06.\n"
     ]
    },
    {
     "name": "stdout",
     "output_type": "stream",
     "text": [
      "#24: units=[92, 10]: samples=46/51, mean=8.0754e-07, std=4.5781e-07\n",
      "\n"
     ]
    },
    {
     "name": "stderr",
     "output_type": "stream",
     "text": [
      "[I 2020-07-21 04:19:47,690] Finished trial#24 with value: 8.075403389076873e-07 with parameters: {'num_unit1': 92, 'num_unit2': 10}. Best is trial#24 with value: 8.075403389076873e-07.\n"
     ]
    },
    {
     "name": "stdout",
     "output_type": "stream",
     "text": [
      "#25: units=[91, 10]: samples=43/51, mean=1.4615e-06, std=1.3648e-06\n",
      "\n"
     ]
    },
    {
     "name": "stderr",
     "output_type": "stream",
     "text": [
      "[I 2020-07-21 04:27:46,945] Finished trial#25 with value: 1.4614552002893655e-06 with parameters: {'num_unit1': 91, 'num_unit2': 10}. Best is trial#24 with value: 8.075403389076873e-07.\n"
     ]
    },
    {
     "name": "stdout",
     "output_type": "stream",
     "text": [
      "#26: units=[73, 12]: samples=44/51, mean=1.3499e-06, std=1.1349e-06\n",
      "\n"
     ]
    },
    {
     "name": "stderr",
     "output_type": "stream",
     "text": [
      "[I 2020-07-21 04:35:14,715] Finished trial#26 with value: 1.3498607574743717e-06 with parameters: {'num_unit1': 73, 'num_unit2': 12}. Best is trial#24 with value: 8.075403389076873e-07.\n"
     ]
    },
    {
     "name": "stdout",
     "output_type": "stream",
     "text": [
      "#27: units=[89, 7]: samples=44/51, mean=1.0971e-06, std=8.2160e-07\n",
      "\n"
     ]
    },
    {
     "name": "stderr",
     "output_type": "stream",
     "text": [
      "[I 2020-07-21 04:42:50,551] Finished trial#27 with value: 1.0971213936531141e-06 with parameters: {'num_unit1': 89, 'num_unit2': 7}. Best is trial#24 with value: 8.075403389076873e-07.\n"
     ]
    },
    {
     "name": "stdout",
     "output_type": "stream",
     "text": [
      "#28: units=[100, 7]: samples=46/51, mean=1.4874e-06, std=1.3365e-06\n",
      "\n"
     ]
    },
    {
     "name": "stderr",
     "output_type": "stream",
     "text": [
      "[I 2020-07-21 04:50:53,548] Finished trial#28 with value: 1.4873873343800448e-06 with parameters: {'num_unit1': 100, 'num_unit2': 7}. Best is trial#24 with value: 8.075403389076873e-07.\n"
     ]
    },
    {
     "name": "stdout",
     "output_type": "stream",
     "text": [
      "#29: units=[88, 7], sample 21/51, score:3.8898e-07"
     ]
    }
   ],
   "source": [
    "study.optimize(objective, n_trials=84)\n",
    "\n",
    "print(\"\\n\")\n",
    "print(\"*** All Trial are finished!! ***\")"
   ]
  },
  {
   "cell_type": "code",
   "execution_count": null,
   "metadata": {},
   "outputs": [],
   "source": []
  }
 ],
 "metadata": {
  "kernelspec": {
   "display_name": "Python 3",
   "language": "python",
   "name": "python3"
  },
  "language_info": {
   "codemirror_mode": {
    "name": "ipython",
    "version": 3
   },
   "file_extension": ".py",
   "mimetype": "text/x-python",
   "name": "python",
   "nbconvert_exporter": "python",
   "pygments_lexer": "ipython3",
   "version": "3.7.7"
  }
 },
 "nbformat": 4,
 "nbformat_minor": 4
}
