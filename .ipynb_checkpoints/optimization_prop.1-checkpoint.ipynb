{
 "cells": [
  {
   "cell_type": "code",
   "execution_count": 1,
   "metadata": {},
   "outputs": [],
   "source": [
    "import optuna\n",
    "import numpy as np\n",
    "import pandas as pd\n",
    "import matplotlib.pyplot as plt\n",
    "import toolkit.filter\n",
    "\n",
    "import tensorflow as tf\n",
    "from tensorflow.keras.backend import clear_session\n",
    "from tensorflow.keras.models import Sequential\n",
    "from tensorflow.keras.layers import Dense\n",
    "from tensorflow.keras.optimizers import Adam\n",
    "\n",
    "from optuna.integration import KerasPruningCallback\n"
   ]
  },
  {
   "cell_type": "code",
   "execution_count": 2,
   "metadata": {},
   "outputs": [
    {
     "name": "stdout",
     "output_type": "stream",
     "text": [
      "Not enough GPU hardware devices available\n"
     ]
    }
   ],
   "source": [
    "physical_devices = tf.config.experimental.list_physical_devices('GPU')\n",
    "if len(physical_devices) > 0:\n",
    "    for k in range(len(physical_devices)):\n",
    "        tf.config.experimental.set_memory_growth(physical_devices[k], True)\n",
    "        print('memory growth:', tf.config.experimental.get_memory_growth(physical_devices[k]))\n",
    "else:\n",
    "    print(\"Not enough GPU hardware devices available\")"
   ]
  },
  {
   "cell_type": "code",
   "execution_count": 3,
   "metadata": {},
   "outputs": [],
   "source": [
    "class DatasetClass:\n",
    "    def __init__(self, data_path):\n",
    "        self.path = data_path\n",
    "    \n",
    "    def __reflect_index(self, data, index):\n",
    "        if index != None:\n",
    "            data = data[:, index]\n",
    "        return data\n",
    "        \n",
    "    def __load_df(self, data_label):\n",
    "        data_x = pd.read_csv(f\"{self.path}/{data_label}_nx.csv\", index_col=0)\n",
    "        data_y = pd.read_csv(f\"{self.path}/{data_label}_ny.csv\", index_col=0)\n",
    "        return data_x, data_y\n",
    "    \n",
    "    def __load_data(self, data_label, x_index, y_index):\n",
    "        data_x, data_y = self.__load_df(data_label)\n",
    "        data_x = self.__reflect_index(data_x.values, x_index)\n",
    "        data_y = self.__reflect_index(data_y.values, y_index)\n",
    "        return data_x, data_y\n",
    "    \n",
    "    def __load_stack(self, dataset_list, x_index, y_index):\n",
    "        for label in dataset_list:\n",
    "            tmp_x, tmp_y = self.__load_data(label, x_index, y_index)\n",
    "            if dataset_list.index(label) == 0:\n",
    "                data_x = tmp_x\n",
    "                data_y = tmp_y\n",
    "            else:\n",
    "                data_x = np.vstack((data_x, tmp_x))\n",
    "                data_y = np.vstack((data_y, tmp_y))\n",
    "        return data_x, data_y\n",
    "    \n",
    "    def __load_dict(self, dataset_list, x_index, y_index):\n",
    "        data_x, data_y = {}, {}\n",
    "        for label in dataset_list:\n",
    "            tmp_x, tmp_y = self.__load_data(label, x_index, y_index)\n",
    "            data_x[label] = tmp_x\n",
    "            data_y[label] = tmp_y\n",
    "        return data_x, data_y\n",
    "    \n",
    "    def get_data(self, dataset_label, x_index=None, y_index=None, dict_type:bool=False):\n",
    "        if not dict_type:\n",
    "            if type(dataset_label) == str:\n",
    "                data_x, data_y = self.__load_data(dataset_label, x_index, y_index)\n",
    "            else:\n",
    "                data_x, data_y = self.__load_stack(dataset_label, x_index, y_index)\n",
    "        else:\n",
    "            data_x, data_y = self.__load_dict(dataset_label, x_index, y_index)\n",
    "        return data_x, data_y\n",
    "    \n",
    "    def get_dataframe(self, dataset_list):\n",
    "        data_x = {}\n",
    "        data_y = {}\n",
    "        for label in dataset_list:\n",
    "            tmp_x, tmp_y = self.__load_df(label)\n",
    "            data_x[label] = tmp_x\n",
    "            data_y[label] = tmp_y\n",
    "        return data_x, data_y\n",
    "\n",
    "\n",
    "def set_index(model_type):\n",
    "    if \"conv.\" in model_type:\n",
    "        x_index = [i for i in range(7)]\n",
    "    elif model_type == \"prop.1\":\n",
    "        x_index = [0,3,4,6]\n",
    "    elif model_type == \"prop.2\":\n",
    "        x_index = [1,2,5,6]\n",
    "    elif model_type == \"prop.3\":\n",
    "        x_index = [1,2,5,6]\n",
    "    elif model_type == \"prop.4\":\n",
    "        x_index = [0,3,4,5,6]\n",
    "    else:\n",
    "        print(f\"<< {model_type} >> This model is not exist.\")\n",
    "    y_index = [int(model_type[-1])-1]\n",
    "    return x_index, y_index\n",
    "\n",
    "\n",
    "def set_dataset_label(model_type):\n",
    "    type_id = int(model_type[-1])\n",
    "    if type_id == 1:\n",
    "        learn = \"ms1a\"\n",
    "        test = \"ms2a\"\n",
    "    elif type_id == 2:\n",
    "        learn = \"ms3a\"\n",
    "        test = \"ms1a\"\n",
    "    elif type_id == 3:\n",
    "        learn = \"ms2a\"\n",
    "        test = \"ms3a\"\n",
    "    elif type_id == 4:\n",
    "        learn = \"ms3a\"\n",
    "        test = \"ms1a\"\n",
    "    return learn, test\n"
   ]
  },
  {
   "cell_type": "code",
   "execution_count": 4,
   "metadata": {},
   "outputs": [
    {
     "name": "stdout",
     "output_type": "stream",
     "text": [
      "x_index: [0, 3, 4, 6], y_index: [0]\n",
      "learn list: ms1a, test_list: ms2a\n"
     ]
    }
   ],
   "source": [
    "model_tag = \"prop.1\"\n",
    "data_path = f\"./dataset/norms\"\n",
    "\n",
    "x_index, y_index = set_index(model_tag)\n",
    "learn_list, test_list  = set_dataset_label(model_tag)\n",
    "\n",
    "dataset = DatasetClass(data_path)\n",
    "learn_x, learn_y = dataset.get_data(learn_list, x_index, y_index)\n",
    "test_x, test_y = dataset.get_data(test_list, x_index, y_index)\n",
    "\n",
    "print(f\"x_index: {x_index}, y_index: [{y_index[0]}]\")\n",
    "print(f\"learn list: {learn_list}, test_list: {test_list}\")\n"
   ]
  },
  {
   "cell_type": "code",
   "execution_count": 5,
   "metadata": {},
   "outputs": [],
   "source": [
    "study_label = \"ver1.0\"\n",
    "STUDY_LOADING = True\n",
    "\n",
    "storage_path = f\"sqlite:///optimize_{model_tag}.db\"\n",
    "study_name = model_tag + \"_\" + study_label\n",
    "\n",
    "# study load or create\n",
    "if STUDY_LOADING:\n",
    "    study = optuna.load_study(study_name, storage_path, pruner=optuna.pruners.MedianPruner())\n",
    "else:\n",
    "    study = optuna.create_study(study_name=study_name, storage=storage_path, direction=\"minimize\", pruner=optuna.pruners.MedianPruner())\n"
   ]
  },
  {
   "cell_type": "code",
   "execution_count": 6,
   "metadata": {},
   "outputs": [],
   "source": [
    "batch_size = 512\n",
    "element = 169\n",
    "\n",
    "epochs = 200\n",
    "samples = 51\n",
    "input_unit = learn_x.shape[1]\n",
    "testdata_size = test_x.shape[0]\n",
    "\n",
    "filter = toolkit.filter.Filter_with_IQR()\n",
    "\n",
    "def objective(trial):\n",
    "    max_unit1 = 33\n",
    "    max_unit2 = 100\n",
    "    \n",
    "    num_unit1 = trial.suggest_int(f\"num_unit1\", 1, max_unit1)\n",
    "    buf_unit2 = int((element - input_unit * num_unit1)/(num_unit1 + 1))\n",
    "    if max_unit2 >= buf_unit2:\n",
    "        max_unit2 = buf_unit2\n",
    "    num_unit2 = trial.suggest_int(f\"num_unit2\", 1, max_unit2)\n",
    "    \n",
    "    score_list = [np.nan for i in range(samples)]\n",
    "    for i in range(samples):\n",
    "        clear_session()\n",
    "        model = Sequential([\n",
    "            Dense(input_dim=input_unit, units=num_unit1, activation=\"tanh\", kernel_initializer=\"glorot_uniform\"),\n",
    "            Dense(input_dim=num_unit1, units=num_unit2, activation=\"tanh\", kernel_initializer=\"glorot_uniform\"),\n",
    "            Dense(input_dim=num_unit2, units=1, kernel_initializer=\"glorot_uniform\")\n",
    "        ])\n",
    "        model.compile(loss=\"mse\", optimizer=Adam())\n",
    "        model.fit(learn_x, learn_y, batch_size=batch_size, epochs=epochs, verbose=0)\n",
    "        score = model.evaluate(test_x, test_y, batch_size=testdata_size, verbose=0)\n",
    "        score_list[i] = score\n",
    "        print(f\"\\r#{trial.number:2}: units={[num_unit1, num_unit2]}, sample {i}/{samples}, score:{score:.4e}\", end=\"\")\n",
    "        \n",
    "    df_score = filter.filtering(score_list)\n",
    "    count, mean, std = df_score.describe().loc[[\"count\",\"mean\",\"std\"]]\n",
    "    print(f\"\\r#{trial.number:2}: units={[num_unit1, num_unit2]}: samples={int(count)}/{samples}, mean={mean:.4e}, std={std:.4e}\\n\")\n",
    "    return mean"
   ]
  },
  {
   "cell_type": "code",
   "execution_count": null,
   "metadata": {
    "scrolled": false
   },
   "outputs": [
    {
     "name": "stdout",
     "output_type": "stream",
     "text": [
      "#20: units=[28, 1]: samples=43/51, mean=1.3345e-06, std=7.0898e-07\n",
      "\n"
     ]
    },
    {
     "name": "stderr",
     "output_type": "stream",
     "text": [
      "[I 2020-07-21 03:21:42,902] Finished trial#20 with value: 1.334495314542733e-06 with parameters: {'num_unit1': 28, 'num_unit2': 1}. Best is trial#17 with value: 1.0068103907517272e-06.\n"
     ]
    },
    {
     "name": "stdout",
     "output_type": "stream",
     "text": [
      "#21: units=[28, 1]: samples=45/51, mean=1.7548e-06, std=1.1218e-06\n",
      "\n"
     ]
    },
    {
     "name": "stderr",
     "output_type": "stream",
     "text": [
      "[I 2020-07-21 03:28:28,365] Finished trial#21 with value: 1.754778986019624e-06 with parameters: {'num_unit1': 28, 'num_unit2': 1}. Best is trial#17 with value: 1.0068103907517272e-06.\n"
     ]
    },
    {
     "name": "stdout",
     "output_type": "stream",
     "text": [
      "#22: units=[28, 1]: samples=46/51, mean=1.5790e-06, std=1.0969e-06\n",
      "\n"
     ]
    },
    {
     "name": "stderr",
     "output_type": "stream",
     "text": [
      "[I 2020-07-21 03:35:33,225] Finished trial#22 with value: 1.5790023826041206e-06 with parameters: {'num_unit1': 28, 'num_unit2': 1}. Best is trial#17 with value: 1.0068103907517272e-06.\n"
     ]
    },
    {
     "name": "stdout",
     "output_type": "stream",
     "text": [
      "#23: units=[33, 1]: samples=41/51, mean=1.7804e-06, std=1.6962e-06\n",
      "\n"
     ]
    },
    {
     "name": "stderr",
     "output_type": "stream",
     "text": [
      "[I 2020-07-21 03:42:47,323] Finished trial#23 with value: 1.7803761436176146e-06 with parameters: {'num_unit1': 33, 'num_unit2': 1}. Best is trial#17 with value: 1.0068103907517272e-06.\n"
     ]
    },
    {
     "name": "stdout",
     "output_type": "stream",
     "text": [
      "#24: units=[25, 2]: samples=48/51, mean=9.3521e-07, std=7.0317e-07\n",
      "\n"
     ]
    },
    {
     "name": "stderr",
     "output_type": "stream",
     "text": [
      "[I 2020-07-21 03:50:05,057] Finished trial#24 with value: 9.352120089456406e-07 with parameters: {'num_unit1': 25, 'num_unit2': 2}. Best is trial#24 with value: 9.352120089456406e-07.\n"
     ]
    },
    {
     "name": "stdout",
     "output_type": "stream",
     "text": [
      "#25: units=[27, 2]: samples=51/51, mean=1.2696e-06, std=9.5663e-07\n",
      "\n"
     ]
    },
    {
     "name": "stderr",
     "output_type": "stream",
     "text": [
      "[I 2020-07-21 03:57:52,005] Finished trial#25 with value: 1.2695639011532618e-06 with parameters: {'num_unit1': 27, 'num_unit2': 2}. Best is trial#24 with value: 9.352120089456406e-07.\n"
     ]
    },
    {
     "name": "stdout",
     "output_type": "stream",
     "text": [
      "#26: units=[21, 3]: samples=46/51, mean=9.9928e-07, std=6.9808e-07\n",
      "\n"
     ]
    },
    {
     "name": "stderr",
     "output_type": "stream",
     "text": [
      "[I 2020-07-21 04:05:07,885] Finished trial#26 with value: 9.99280052251033e-07 with parameters: {'num_unit1': 21, 'num_unit2': 3}. Best is trial#24 with value: 9.352120089456406e-07.\n"
     ]
    },
    {
     "name": "stdout",
     "output_type": "stream",
     "text": [
      "#27: units=[20, 3]: samples=49/51, mean=1.5360e-06, std=8.9144e-07\n",
      "\n"
     ]
    },
    {
     "name": "stderr",
     "output_type": "stream",
     "text": [
      "[I 2020-07-21 04:11:57,395] Finished trial#27 with value: 1.5360486616533326e-06 with parameters: {'num_unit1': 20, 'num_unit2': 3}. Best is trial#24 with value: 9.352120089456406e-07.\n"
     ]
    },
    {
     "name": "stdout",
     "output_type": "stream",
     "text": [
      "#28: units=[21, 3]: samples=50/51, mean=1.1283e-06, std=8.4585e-07\n",
      "\n"
     ]
    },
    {
     "name": "stderr",
     "output_type": "stream",
     "text": [
      "[I 2020-07-21 04:19:39,238] Finished trial#28 with value: 1.1282584540595053e-06 with parameters: {'num_unit1': 21, 'num_unit2': 3}. Best is trial#24 with value: 9.352120089456406e-07.\n"
     ]
    },
    {
     "name": "stdout",
     "output_type": "stream",
     "text": [
      "#29: units=[14, 4]: samples=50/51, mean=1.3416e-06, std=1.0075e-06\n",
      "\n"
     ]
    },
    {
     "name": "stderr",
     "output_type": "stream",
     "text": [
      "[I 2020-07-21 04:26:44,877] Finished trial#29 with value: 1.3415541158678933e-06 with parameters: {'num_unit1': 14, 'num_unit2': 4}. Best is trial#24 with value: 9.352120089456406e-07.\n"
     ]
    },
    {
     "name": "stdout",
     "output_type": "stream",
     "text": [
      "#30: units=[31, 1]: samples=47/51, mean=1.2293e-06, std=8.3678e-07\n",
      "\n"
     ]
    },
    {
     "name": "stderr",
     "output_type": "stream",
     "text": [
      "[I 2020-07-21 04:34:10,392] Finished trial#30 with value: 1.229282175551001e-06 with parameters: {'num_unit1': 31, 'num_unit2': 1}. Best is trial#24 with value: 9.352120089456406e-07.\n"
     ]
    },
    {
     "name": "stdout",
     "output_type": "stream",
     "text": [
      "#31: units=[20, 4]: samples=49/51, mean=1.2925e-06, std=7.2233e-07\n",
      "\n"
     ]
    },
    {
     "name": "stderr",
     "output_type": "stream",
     "text": [
      "[I 2020-07-21 04:40:59,793] Finished trial#31 with value: 1.292515790106447e-06 with parameters: {'num_unit1': 20, 'num_unit2': 4}. Best is trial#24 with value: 9.352120089456406e-07.\n"
     ]
    },
    {
     "name": "stdout",
     "output_type": "stream",
     "text": [
      "#32: units=[19, 4]: samples=47/51, mean=1.0516e-06, std=8.0734e-07\n",
      "\n"
     ]
    },
    {
     "name": "stderr",
     "output_type": "stream",
     "text": [
      "[I 2020-07-21 04:48:29,978] Finished trial#32 with value: 1.0516333617260898e-06 with parameters: {'num_unit1': 19, 'num_unit2': 4}. Best is trial#24 with value: 9.352120089456406e-07.\n"
     ]
    },
    {
     "name": "stdout",
     "output_type": "stream",
     "text": [
      "#33: units=[26, 2], sample 37/51, score:3.7068e-06"
     ]
    }
   ],
   "source": [
    "study.optimize(objective, n_trials=81)\n",
    "\n",
    "print(\"\\n\")\n",
    "print(\"*** All Trial are finished!! ***\")"
   ]
  },
  {
   "cell_type": "code",
   "execution_count": null,
   "metadata": {},
   "outputs": [],
   "source": []
  }
 ],
 "metadata": {
  "kernelspec": {
   "display_name": "Python 3",
   "language": "python",
   "name": "python3"
  },
  "language_info": {
   "codemirror_mode": {
    "name": "ipython",
    "version": 3
   },
   "file_extension": ".py",
   "mimetype": "text/x-python",
   "name": "python",
   "nbconvert_exporter": "python",
   "pygments_lexer": "ipython3",
   "version": "3.7.7"
  }
 },
 "nbformat": 4,
 "nbformat_minor": 4
}
