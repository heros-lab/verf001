{
 "cells": [
  {
   "cell_type": "code",
   "execution_count": 2,
   "metadata": {},
   "outputs": [],
   "source": [
    "import optuna"
   ]
  },
  {
   "cell_type": "code",
   "execution_count": 3,
   "metadata": {},
   "outputs": [],
   "source": [
    "best_score = [2.83e-7, 1.79e-7, 1.73e-6, 1.56e-6]"
   ]
  },
  {
   "cell_type": "code",
   "execution_count": 75,
   "metadata": {
    "scrolled": false
   },
   "outputs": [
    {
     "name": "stdout",
     "output_type": "stream",
     "text": [
      "-*- Version: 1.0 -*-\n",
      "Prop.1\n",
      "- Now Trial : #110\n",
      "- Best Trial: #72: {'num_unit1': 22, 'num_unit2': 2}\n",
      "- Best Score: 8.77e-07\n",
      "- New Record: False (conv. is 2.83e-07)\n",
      "\n",
      "Prop.2\n",
      "- Now Trial : #101\n",
      "- Best Trial: #10: {'num_unit1': 99, 'num_unit2': 1}\n",
      "- Best Score: 4.27e-08\n",
      "- New Record: True (conv. is 1.79e-07)\n",
      "\n",
      "Prop.3\n",
      "- Now Trial : #100\n",
      "- Best Trial: #24: {'num_unit1': 92, 'num_unit2': 10}\n",
      "- Best Score: 8.08e-07\n",
      "- New Record: True (conv. is 1.73e-06)\n",
      "\n",
      "Prop.4\n",
      "- Now Trial : #99\n",
      "- Best Trial: #46: {'num_unit1': 95, 'num_unit2': 26}\n",
      "- Best Score: 1.54e-06\n",
      "- New Record: True (conv. is 1.56e-06)\n",
      "\n"
     ]
    }
   ],
   "source": [
    "print(\"-*- Version: 1.0 -*-\")\n",
    "for i in range(4):\n",
    "    study = optuna.load_study(f\"prop.{i+1}_ver1.0\", f\"sqlite:///optimize_prop.{i+1}.db\")\n",
    "    print(f\"Prop.{i+1}\")\n",
    "    print(f\"- Now Trial : #{study.trials[-1].number:2}\")\n",
    "    print(f\"- Best Trial: #{study.best_trial.number:2}: {study.best_params}\")\n",
    "    print(f\"- Best Score: {study.best_value:.2e}\")\n",
    "    print(f\"- New Record: {study.best_value < best_score[i]} (conv. is {best_score[i]})\")\n",
    "    print()\n"
   ]
  },
  {
   "cell_type": "markdown",
   "metadata": {},
   "source": [
    "# Check result of ver.2.0"
   ]
  },
  {
   "cell_type": "code",
   "execution_count": 4,
   "metadata": {},
   "outputs": [
    {
     "name": "stdout",
     "output_type": "stream",
     "text": [
      "-*- Version: 2.0 -*-\n",
      "Prop.1\n",
      "- Now Trial : #31\n",
      "- Best Trial: #13: {'num_unit1': 25, 'num_unit2': 2}\n",
      "- Best Score: 1.03e-06\n",
      "- New Record: False (conv. is 2.83e-07)\n",
      "\n",
      "Prop.2\n",
      "- Now Trial : #25\n",
      "- Best Trial: #15: {'num_unit1': 98, 'num_unit2': 1}\n",
      "- Best Score: 6.20e-08\n",
      "- New Record: True (conv. is 1.79e-07)\n",
      "\n"
     ]
    }
   ],
   "source": [
    "print(\"-*- Version: 2.0 -*-\")\n",
    "for i in range(2):\n",
    "    study = optuna.load_study(f\"prop.{i+1}_ver2.0\", f\"sqlite:///optimize_prop.{i+1}.db\")\n",
    "    print(f\"Prop.{i+1}\")\n",
    "    print(f\"- Now Trial : #{study.trials[-1].number:2}\")\n",
    "    print(f\"- Best Trial: #{study.best_trial.number:2}: {study.best_params}\")\n",
    "    print(f\"- Best Score: {study.best_value:.2e}\")\n",
    "    print(f\"- New Record: {study.best_value < best_score[i]} (conv. is {best_score[i]})\")\n",
    "    print()"
   ]
  },
  {
   "cell_type": "code",
   "execution_count": 5,
   "metadata": {},
   "outputs": [],
   "source": [
    "import toolkit.dataset\n",
    "\n",
    "from tensorflow.keras.backend import clear_session\n",
    "from tensorflow.keras.models import Sequential\n",
    "from tensorflow.keras.layers import Dense\n",
    "from tensorflow.keras.optimizers import Adam"
   ]
  },
  {
   "cell_type": "code",
   "execution_count": 9,
   "metadata": {},
   "outputs": [],
   "source": [
    "import pandas as pd"
   ]
  },
  {
   "cell_type": "code",
   "execution_count": 8,
   "metadata": {},
   "outputs": [],
   "source": [
    "def create_model(unit1, unit2, unit3):\n",
    "    clear_session()\n",
    "    model = Sequential([\n",
    "        Dense(input_dim=unit1, units=unit2, activation=\"tanh\", kernel_initializer=\"glorot_uniform\"),\n",
    "        Dense(input_dim=unit2, units=unit3, activation=\"tanh\", kernel_initializer=\"glorot_uniform\"),\n",
    "        Dense(input_dim=unit3, units=1, kernel_initializer=\"glorot_uniform\")\n",
    "    ])\n",
    "    model.compile(loss=\"mse\", optimizer=Adam())\n",
    "    return model\n"
   ]
  },
  {
   "cell_type": "code",
   "execution_count": 6,
   "metadata": {},
   "outputs": [],
   "source": [
    "dataset = toolkit.dataset.DatasetClass(\"./dataset/norms\", True)"
   ]
  },
  {
   "cell_type": "code",
   "execution_count": 13,
   "metadata": {},
   "outputs": [],
   "source": [
    "x_index = [0,3,4,6]\n",
    "y_index = [0]\n",
    "\n",
    "learn_x, learn_y = dataset.get_data([\"ms1a\", \"ms1b\"])#, x_index, y_index)\n",
    "test_x, test_y = dataset.get_data([\"ms2a\", \"free\", \"step\"])#, x_index, y_index)"
   ]
  },
  {
   "cell_type": "code",
   "execution_count": 11,
   "metadata": {},
   "outputs": [
    {
     "name": "stdout",
     "output_type": "stream",
     "text": [
      "Prop.1: samples=100/100, score=3.7212e-04"
     ]
    }
   ],
   "source": [
    "score_list = []\n",
    "for i in range(100):\n",
    "    model = create_model(4,22,2)\n",
    "    model.fit(learn_x[:, x_index], learn_y[:,y_index], batch_size=512, epochs=200, verbose=0)\n",
    "    score = model.evaluate(test_x[:, x_index], test_y[:, y_index], batch_size=512, verbose=0)\n",
    "    score_list.append(score)\n",
    "    print(f\"\\rProp.1: samples={i+1}/100, score={score:.4e}\", end=\"\")\n",
    "    \n",
    "df_score = pd.DataFrame(score_list)"
   ]
  },
  {
   "cell_type": "code",
   "execution_count": 14,
   "metadata": {},
   "outputs": [
    {
     "name": "stdout",
     "output_type": "stream",
     "text": [
      "Conv.1: samples=100/100, score=6.2591e-04"
     ]
    }
   ],
   "source": [
    "score_list = []\n",
    "for i in range(100):\n",
    "    model = create_model(7,3,37)\n",
    "    model.fit(learn_x, learn_y[:, y_index], batch_size=512, epochs=200, verbose=0)\n",
    "    score = model.evaluate(test_x, test_y[:, y_index], batch_size=512, verbose=0)\n",
    "    score_list.append(score)\n",
    "    print(f\"\\rConv.1: samples={i+1}/100, score={score:.4e}\", end=\"\")\n",
    "    \n",
    "df_score2= pd.DataFrame(score_list)"
   ]
  },
  {
   "cell_type": "code",
   "execution_count": 22,
   "metadata": {},
   "outputs": [],
   "source": [
    "import matplotlib.pyplot as plt"
   ]
  },
  {
   "cell_type": "code",
   "execution_count": 23,
   "metadata": {},
   "outputs": [],
   "source": [
    "df_result = pd.DataFrame({\"conv.1\":df_score2[0], \"prop.1\":df_score[0]})"
   ]
  },
  {
   "cell_type": "code",
   "execution_count": 24,
   "metadata": {},
   "outputs": [
    {
     "data": {
      "text/plain": [
       "<matplotlib.axes._subplots.AxesSubplot at 0x1fd0093e148>"
      ]
     },
     "execution_count": 24,
     "metadata": {},
     "output_type": "execute_result"
    },
    {
     "data": {
      "image/png": "[encoded data removed]",
      "text/plain": [
       "<Figure size 432x288 with 1 Axes>"
      ]
     },
     "metadata": {
      "needs_background": "light"
     },
     "output_type": "display_data"
    }
   ],
   "source": [
    "fig, ax = plt.subplots(1,1)\n",
    "df_result.plot.box(ax=ax)"
   ]
  },
  {
   "cell_type": "code",
   "execution_count": null,
   "metadata": {},
   "outputs": [],
   "source": []
  }
 ],
 "metadata": {
  "kernelspec": {
   "display_name": "Python 3",
   "language": "python",
   "name": "python3"
  },
  "language_info": {
   "codemirror_mode": {
    "name": "ipython",
    "version": 3
   },
   "file_extension": ".py",
   "mimetype": "text/x-python",
   "name": "python",
   "nbconvert_exporter": "python",
   "pygments_lexer": "ipython3",
   "version": "3.7.7"
  }
 },
 "nbformat": 4,
 "nbformat_minor": 4
}
