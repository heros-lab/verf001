{
 "cells": [
  {
   "cell_type": "code",
   "execution_count": 1,
   "metadata": {},
   "outputs": [],
   "source": [
    "import optuna\n",
    "import numpy as np\n",
    "import pandas as pd\n",
    "import matplotlib.pyplot as plt\n",
    "import toolkit.filter\n",
    "\n",
    "import tensorflow as tf\n",
    "from tensorflow.keras.backend import clear_session\n",
    "from tensorflow.keras.models import Sequential\n",
    "from tensorflow.keras.layers import Dense\n",
    "from tensorflow.keras.optimizers import Adam\n",
    "\n",
    "from optuna.integration import KerasPruningCallback\n"
   ]
  },
  {
   "cell_type": "code",
   "execution_count": 2,
   "metadata": {},
   "outputs": [
    {
     "name": "stdout",
     "output_type": "stream",
     "text": [
      "Not enough GPU hardware devices available\n"
     ]
    }
   ],
   "source": [
    "physical_devices = tf.config.experimental.list_physical_devices('GPU')\n",
    "if len(physical_devices) > 0:\n",
    "    for k in range(len(physical_devices)):\n",
    "        tf.config.experimental.set_memory_growth(physical_devices[k], True)\n",
    "        print('memory growth:', tf.config.experimental.get_memory_growth(physical_devices[k]))\n",
    "else:\n",
    "    print(\"Not enough GPU hardware devices available\")"
   ]
  },
  {
   "cell_type": "code",
   "execution_count": 3,
   "metadata": {},
   "outputs": [],
   "source": [
    "class DatasetClass:\n",
    "    def __init__(self, data_path):\n",
    "        self.path = data_path\n",
    "    \n",
    "    def __reflect_index(self, data, index):\n",
    "        if index != None:\n",
    "            data = data[:, index]\n",
    "        return data\n",
    "        \n",
    "    def __load_df(self, data_label):\n",
    "        data_x = pd.read_csv(f\"{self.path}/{data_label}_nx.csv\", index_col=0)\n",
    "        data_y = pd.read_csv(f\"{self.path}/{data_label}_ny.csv\", index_col=0)\n",
    "        return data_x, data_y\n",
    "    \n",
    "    def __load_data(self, data_label, x_index, y_index):\n",
    "        data_x, data_y = self.__load_df(data_label)\n",
    "        data_x = self.__reflect_index(data_x.values, x_index)\n",
    "        data_y = self.__reflect_index(data_y.values, y_index)\n",
    "        return data_x, data_y\n",
    "    \n",
    "    def __load_stack(self, dataset_list, x_index, y_index):\n",
    "        for label in dataset_list:\n",
    "            tmp_x, tmp_y = self.__load_data(label, x_index, y_index)\n",
    "            if dataset_list.index(label) == 0:\n",
    "                data_x = tmp_x\n",
    "                data_y = tmp_y\n",
    "            else:\n",
    "                data_x = np.vstack((data_x, tmp_x))\n",
    "                data_y = np.vstack((data_y, tmp_y))\n",
    "        return data_x, data_y\n",
    "    \n",
    "    def __load_dict(self, dataset_list, x_index, y_index):\n",
    "        data_x, data_y = {}, {}\n",
    "        for label in dataset_list:\n",
    "            tmp_x, tmp_y = self.__load_data(label, x_index, y_index)\n",
    "            data_x[label] = tmp_x\n",
    "            data_y[label] = tmp_y\n",
    "        return data_x, data_y\n",
    "    \n",
    "    def get_data(self, dataset_label, x_index=None, y_index=None, dict_type:bool=False):\n",
    "        if not dict_type:\n",
    "            if type(dataset_label) == str:\n",
    "                data_x, data_y = self.__load_data(dataset_label, x_index, y_index)\n",
    "            else:\n",
    "                data_x, data_y = self.__load_stack(dataset_label, x_index, y_index)\n",
    "        else:\n",
    "            data_x, data_y = self.__load_dict(dataset_label, x_index, y_index)\n",
    "        return data_x, data_y\n",
    "    \n",
    "    def get_dataframe(self, dataset_list):\n",
    "        data_x = {}\n",
    "        data_y = {}\n",
    "        for label in dataset_list:\n",
    "            tmp_x, tmp_y = self.__load_df(label)\n",
    "            data_x[label] = tmp_x\n",
    "            data_y[label] = tmp_y\n",
    "        return data_x, data_y\n",
    "\n",
    "\n",
    "def set_index(model_type):\n",
    "    if \"conv.\" in model_type:\n",
    "        x_index = [i for i in range(7)]\n",
    "    elif model_type == \"prop.1\":\n",
    "        x_index = [0,3,4,6]\n",
    "    elif model_type == \"prop.2\":\n",
    "        x_index = [1,2,5,6]\n",
    "    elif model_type == \"prop.3\":\n",
    "        x_index = [1,2,5,6]\n",
    "    elif model_type == \"prop.4\":\n",
    "        x_index = [0,3,4,5,6]\n",
    "    else:\n",
    "        print(f\"<< {model_type} >> This model is not exist.\")\n",
    "    y_index = [int(model_type[-1])-1]\n",
    "    return x_index, y_index\n",
    "\n",
    "\n",
    "def set_dataset_label(model_type):\n",
    "    type_id = int(model_type[-1])\n",
    "    if type_id == 1:\n",
    "        learn = \"ms1a\"\n",
    "        test = \"ms2a\"\n",
    "    elif type_id == 2:\n",
    "        learn = \"ms3a\"\n",
    "        test = \"ms1a\"\n",
    "    elif type_id == 3:\n",
    "        learn = \"ms2a\"\n",
    "        test = \"ms3a\"\n",
    "    elif type_id == 4:\n",
    "        learn = \"ms3a\"\n",
    "        test = \"ms1a\"\n",
    "    return learn, test\n"
   ]
  },
  {
   "cell_type": "code",
   "execution_count": 4,
   "metadata": {},
   "outputs": [
    {
     "name": "stdout",
     "output_type": "stream",
     "text": [
      "x_index: [1, 2, 5, 6], y_index: [1]\n",
      "learn list: ms3a, test_list: ms1a\n"
     ]
    }
   ],
   "source": [
    "model_tag = \"prop.2\"\n",
    "data_path = f\"./dataset/norms\"\n",
    "\n",
    "x_index, y_index = set_index(model_tag)\n",
    "learn_list, test_list  = set_dataset_label(model_tag)\n",
    "\n",
    "dataset = DatasetClass(data_path)\n",
    "learn_x, learn_y = dataset.get_data(learn_list, x_index, y_index)\n",
    "test_x, test_y = dataset.get_data(test_list, x_index, y_index)\n",
    "\n",
    "print(f\"x_index: {x_index}, y_index: [{y_index[0]}]\")\n",
    "print(f\"learn list: {learn_list}, test_list: {test_list}\")\n"
   ]
  },
  {
   "cell_type": "code",
   "execution_count": 5,
   "metadata": {},
   "outputs": [],
   "source": [
    "study_label = \"ver1.0\"\n",
    "STUDY_LOADING = True\n",
    "\n",
    "storage_path = f\"sqlite:///optimize_{model_tag}.db\"\n",
    "study_name = model_tag + \"_\" + study_label\n",
    "\n",
    "# study load or create\n",
    "if STUDY_LOADING:\n",
    "    study = optuna.load_study(study_name, storage_path, pruner=optuna.pruners.MedianPruner())\n",
    "else:\n",
    "    study = optuna.create_study(study_name=study_name, storage=storage_path, direction=\"minimize\", pruner=optuna.pruners.MedianPruner())\n"
   ]
  },
  {
   "cell_type": "code",
   "execution_count": 6,
   "metadata": {},
   "outputs": [],
   "source": [
    "batch_size = 512\n",
    "element = 713\n",
    "\n",
    "epochs = 200\n",
    "samples = 51\n",
    "input_unit = learn_x.shape[1]\n",
    "testdata_size = test_x.shape[0]\n",
    "\n",
    "filter = toolkit.filter.Filter_with_IQR()\n",
    "\n",
    "def objective(trial):\n",
    "    max_unit1 = 100\n",
    "    max_unit2 = 100\n",
    "    \n",
    "    num_unit1 = trial.suggest_int(f\"num_unit1\", 1, max_unit1)\n",
    "    buf_unit2 = int((element - input_unit * num_unit1)/(num_unit1 + 1))\n",
    "    if max_unit2 >= buf_unit2:\n",
    "        max_unit2 = buf_unit2\n",
    "    num_unit2 = trial.suggest_int(f\"num_unit2\", 1, max_unit2)\n",
    "    \n",
    "    score_list = [np.nan for i in range(samples)]\n",
    "    for i in range(samples):\n",
    "        clear_session()\n",
    "        model = Sequential([\n",
    "            Dense(input_dim=input_unit, units=num_unit1, activation=\"tanh\", kernel_initializer=\"glorot_uniform\"),\n",
    "            Dense(input_dim=num_unit1, units=num_unit2, activation=\"tanh\", kernel_initializer=\"glorot_uniform\"),\n",
    "            Dense(input_dim=num_unit2, units=1, kernel_initializer=\"glorot_uniform\")\n",
    "        ])\n",
    "        model.compile(loss=\"mse\", optimizer=Adam())\n",
    "        model.fit(learn_x, learn_y, batch_size=batch_size, epochs=epochs, verbose=0)\n",
    "        score = model.evaluate(test_x, test_y, batch_size=testdata_size, verbose=0)\n",
    "        score_list[i] = score\n",
    "        print(f\"\\r#{trial.number:2}: units={[num_unit1, num_unit2]}, sample {i}/{samples}, score:{score:.4e}\", end=\"\")\n",
    "        \n",
    "    df_score = filter.filtering(score_list)\n",
    "    count, mean, std = df_score.describe().loc[[\"count\",\"mean\",\"std\"]]\n",
    "    print(f\"\\r#{trial.number:2}: units={[num_unit1, num_unit2]}: samples={int(count)}/{samples}, mean={mean:.4e}, std={std:.4e}\\n\")\n",
    "    return mean"
   ]
  },
  {
   "cell_type": "code",
   "execution_count": null,
   "metadata": {
    "scrolled": false
   },
   "outputs": [
    {
     "name": "stdout",
     "output_type": "stream",
     "text": [
      "#15: units=[84, 1]: samples=43/51, mean=1.3846e-07, std=1.9550e-07\n",
      "\n"
     ]
    },
    {
     "name": "stderr",
     "output_type": "stream",
     "text": [
      "[I 2020-07-21 03:27:57,109] Finished trial#15 with value: 1.384553360540475e-07 with parameters: {'num_unit1': 84, 'num_unit2': 1}. Best is trial#10 with value: 4.271637743524792e-08.\n"
     ]
    },
    {
     "name": "stdout",
     "output_type": "stream",
     "text": [
      "#16: units=[79, 2]: samples=44/51, mean=2.7409e-07, std=4.2932e-07\n",
      "\n"
     ]
    },
    {
     "name": "stderr",
     "output_type": "stream",
     "text": [
      "[I 2020-07-21 03:36:55,634] Finished trial#16 with value: 2.7409129968711004e-07 with parameters: {'num_unit1': 79, 'num_unit2': 2}. Best is trial#10 with value: 4.271637743524792e-08.\n"
     ]
    },
    {
     "name": "stdout",
     "output_type": "stream",
     "text": [
      "#17: units=[2, 32]: samples=41/51, mean=2.0962e-07, std=2.6346e-07\n",
      "\n"
     ]
    },
    {
     "name": "stderr",
     "output_type": "stream",
     "text": [
      "[I 2020-07-21 03:43:37,308] Finished trial#17 with value: 2.0962414687434168e-07 with parameters: {'num_unit1': 2, 'num_unit2': 32}. Best is trial#10 with value: 4.271637743524792e-08.\n"
     ]
    },
    {
     "name": "stdout",
     "output_type": "stream",
     "text": [
      "#18: units=[98, 1]: samples=44/51, mean=1.4980e-07, std=2.5123e-07\n",
      "\n"
     ]
    },
    {
     "name": "stderr",
     "output_type": "stream",
     "text": [
      "[I 2020-07-21 03:52:20,617] Finished trial#18 with value: 1.4980233278081492e-07 with parameters: {'num_unit1': 98, 'num_unit2': 1}. Best is trial#10 with value: 4.271637743524792e-08.\n"
     ]
    },
    {
     "name": "stdout",
     "output_type": "stream",
     "text": [
      "#19: units=[84, 3]: samples=46/51, mean=4.1300e-07, std=5.4101e-07\n",
      "\n"
     ]
    },
    {
     "name": "stderr",
     "output_type": "stream",
     "text": [
      "[I 2020-07-21 04:01:45,507] Finished trial#19 with value: 4.1300111308650855e-07 with parameters: {'num_unit1': 84, 'num_unit2': 3}. Best is trial#10 with value: 4.271637743524792e-08.\n"
     ]
    },
    {
     "name": "stdout",
     "output_type": "stream",
     "text": [
      "#20: units=[75, 4]: samples=43/51, mean=1.9752e-07, std=2.4957e-07\n",
      "\n"
     ]
    },
    {
     "name": "stderr",
     "output_type": "stream",
     "text": [
      "[I 2020-07-21 04:10:42,332] Finished trial#20 with value: 1.9751569607780216e-07 with parameters: {'num_unit1': 75, 'num_unit2': 4}. Best is trial#10 with value: 4.271637743524792e-08.\n"
     ]
    },
    {
     "name": "stdout",
     "output_type": "stream",
     "text": [
      "#21: units=[100, 1]: samples=41/51, mean=9.1624e-08, std=1.4747e-07\n",
      "\n"
     ]
    },
    {
     "name": "stderr",
     "output_type": "stream",
     "text": [
      "[I 2020-07-21 04:19:39,480] Finished trial#21 with value: 9.162390722550748e-08 with parameters: {'num_unit1': 100, 'num_unit2': 1}. Best is trial#10 with value: 4.271637743524792e-08.\n"
     ]
    },
    {
     "name": "stdout",
     "output_type": "stream",
     "text": [
      "#22: units=[90, 1]: samples=43/51, mean=1.3980e-07, std=1.9624e-07\n",
      "\n"
     ]
    },
    {
     "name": "stderr",
     "output_type": "stream",
     "text": [
      "[I 2020-07-21 04:28:15,452] Finished trial#22 with value: 1.3980111720464922e-07 with parameters: {'num_unit1': 90, 'num_unit2': 1}. Best is trial#10 with value: 4.271637743524792e-08.\n"
     ]
    },
    {
     "name": "stdout",
     "output_type": "stream",
     "text": [
      "#23: units=[90, 1]: samples=42/51, mean=6.0315e-08, std=6.7581e-08\n",
      "\n"
     ]
    },
    {
     "name": "stderr",
     "output_type": "stream",
     "text": [
      "[I 2020-07-21 04:36:26,193] Finished trial#23 with value: 6.031493651087196e-08 with parameters: {'num_unit1': 90, 'num_unit2': 1}. Best is trial#10 with value: 4.271637743524792e-08.\n"
     ]
    },
    {
     "name": "stdout",
     "output_type": "stream",
     "text": [
      "#24: units=[87, 2]: samples=47/51, mean=2.1406e-07, std=2.8199e-07\n",
      "\n"
     ]
    },
    {
     "name": "stderr",
     "output_type": "stream",
     "text": [
      "[I 2020-07-21 04:45:38,942] Finished trial#24 with value: 2.1406278666431946e-07 with parameters: {'num_unit1': 87, 'num_unit2': 2}. Best is trial#10 with value: 4.271637743524792e-08.\n"
     ]
    },
    {
     "name": "stdout",
     "output_type": "stream",
     "text": [
      "#25: units=[99, 1], sample 46/51, score:1.9295e-07"
     ]
    }
   ],
   "source": [
    "study.optimize(objective, n_trials=87)\n",
    "\n",
    "print(\"\\n\")\n",
    "print(\"*** All Trial are finished!! ***\")"
   ]
  },
  {
   "cell_type": "code",
   "execution_count": null,
   "metadata": {},
   "outputs": [],
   "source": []
  }
 ],
 "metadata": {
  "kernelspec": {
   "display_name": "Python 3",
   "language": "python",
   "name": "python3"
  },
  "language_info": {
   "codemirror_mode": {
    "name": "ipython",
    "version": 3
   },
   "file_extension": ".py",
   "mimetype": "text/x-python",
   "name": "python",
   "nbconvert_exporter": "python",
   "pygments_lexer": "ipython3",
   "version": "3.7.7"
  }
 },
 "nbformat": 4,
 "nbformat_minor": 4
}
